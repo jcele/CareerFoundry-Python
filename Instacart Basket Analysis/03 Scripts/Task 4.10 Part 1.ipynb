{
 "cells": [
  {
   "cell_type": "markdown",
   "metadata": {},
   "source": [
    "# Task 4.10 - Final Report"
   ]
  },
  {
   "cell_type": "markdown",
   "metadata": {},
   "source": [
    "## Contents"
   ]
  },
  {
   "cell_type": "markdown",
   "metadata": {},
   "source": [
    "### 1. Importing Libraries and Data\n",
    "### 2. Addressing PII Data\n",
    "### 3. Comparing Customer Behavior in Different Geographic Areas\n",
    "### 4. Exclusion Flag for Low-Activity Customers\n",
    "### 5 and 6. Profiling Customers and Visualizations\n",
    "- Age Groups\n",
    "- Income Groups\n",
    "- Number of Dependants\n",
    "- Diet\n",
    "\n",
    "### 7. Profile Aggregation\n",
    "### 8. Customer Profiles with Region and Departments\n",
    "### 9. Visuals Illustrating Profiles\n",
    "### 10. Exporting Dataframe"
   ]
  },
  {
   "cell_type": "markdown",
   "metadata": {},
   "source": [
    "# Import Libraries"
   ]
  },
  {
   "cell_type": "code",
   "execution_count": 1,
   "metadata": {},
   "outputs": [],
   "source": [
    "import pandas as pd\n",
    "import numpy as np\n",
    "import os\n",
    "import matplotlib.pyplot as plt\n",
    "import seaborn as sns\n",
    "import scipy"
   ]
  },
  {
   "cell_type": "markdown",
   "metadata": {},
   "source": [
    "# 1) Import Dataframes"
   ]
  },
  {
   "cell_type": "code",
   "execution_count": 2,
   "metadata": {},
   "outputs": [],
   "source": [
    "# Creating a path variable\n",
    "path = r'C:\\Users\\Aaron\\CareerFoundry\\Instacart Basket Analysis'"
   ]
  },
  {
   "cell_type": "code",
   "execution_count": 3,
   "metadata": {},
   "outputs": [],
   "source": [
    "# Import ords_prods_cust\n",
    "df = pd.read_pickle(os.path.join(path, '02 Data', 'Prepared Data', 'ords_prods_cust.pkl'))"
   ]
  },
  {
   "cell_type": "markdown",
   "metadata": {},
   "source": [
    "### Checking Our Dataframe"
   ]
  },
  {
   "cell_type": "code",
   "execution_count": 4,
   "metadata": {},
   "outputs": [],
   "source": [
    "# Change it to show all columns.\n",
    "pd.options.display.max_columns = None"
   ]
  },
  {
   "cell_type": "code",
   "execution_count": 5,
   "metadata": {
    "scrolled": true
   },
   "outputs": [
    {
     "data": {
      "text/html": [
       "<div>\n",
       "<style scoped>\n",
       "    .dataframe tbody tr th:only-of-type {\n",
       "        vertical-align: middle;\n",
       "    }\n",
       "\n",
       "    .dataframe tbody tr th {\n",
       "        vertical-align: top;\n",
       "    }\n",
       "\n",
       "    .dataframe thead th {\n",
       "        text-align: right;\n",
       "    }\n",
       "</style>\n",
       "<table border=\"1\" class=\"dataframe\">\n",
       "  <thead>\n",
       "    <tr style=\"text-align: right;\">\n",
       "      <th></th>\n",
       "      <th>order_id</th>\n",
       "      <th>user_id</th>\n",
       "      <th>order_number</th>\n",
       "      <th>orders_day_of_week</th>\n",
       "      <th>order_time</th>\n",
       "      <th>days_since_prior_order</th>\n",
       "      <th>product_id</th>\n",
       "      <th>add_to_cart_order</th>\n",
       "      <th>reordered</th>\n",
       "      <th>product_name</th>\n",
       "      <th>aisle_id</th>\n",
       "      <th>department_id</th>\n",
       "      <th>prices</th>\n",
       "      <th>price_range_loc</th>\n",
       "      <th>busiest_days</th>\n",
       "      <th>busiest_period_of_day</th>\n",
       "      <th>max_order</th>\n",
       "      <th>loyalty_flag</th>\n",
       "      <th>avg_price_spent</th>\n",
       "      <th>spending_flag</th>\n",
       "      <th>median_since_prior_orders</th>\n",
       "      <th>order_frequency_flag</th>\n",
       "      <th>first_name</th>\n",
       "      <th>last_name</th>\n",
       "      <th>state</th>\n",
       "      <th>age</th>\n",
       "      <th>n_dependants</th>\n",
       "      <th>income</th>\n",
       "      <th>_merge</th>\n",
       "    </tr>\n",
       "  </thead>\n",
       "  <tbody>\n",
       "    <tr>\n",
       "      <th>0</th>\n",
       "      <td>2539329.0</td>\n",
       "      <td>1.0</td>\n",
       "      <td>1.0</td>\n",
       "      <td>2.0</td>\n",
       "      <td>8.0</td>\n",
       "      <td>11.0</td>\n",
       "      <td>196</td>\n",
       "      <td>1.0</td>\n",
       "      <td>0.0</td>\n",
       "      <td>Soda</td>\n",
       "      <td>77.0</td>\n",
       "      <td>7.0</td>\n",
       "      <td>9.0</td>\n",
       "      <td>Mid-range product</td>\n",
       "      <td>Regularly busy</td>\n",
       "      <td>Average orders</td>\n",
       "      <td>10.0</td>\n",
       "      <td>New customer</td>\n",
       "      <td>6.367797</td>\n",
       "      <td>Low spender</td>\n",
       "      <td>20.0</td>\n",
       "      <td>Regular customer</td>\n",
       "      <td>Linda</td>\n",
       "      <td>Nguyen</td>\n",
       "      <td>Alabama</td>\n",
       "      <td>31</td>\n",
       "      <td>3</td>\n",
       "      <td>40423</td>\n",
       "      <td>both</td>\n",
       "    </tr>\n",
       "    <tr>\n",
       "      <th>1</th>\n",
       "      <td>2398795.0</td>\n",
       "      <td>1.0</td>\n",
       "      <td>2.0</td>\n",
       "      <td>3.0</td>\n",
       "      <td>7.0</td>\n",
       "      <td>15.0</td>\n",
       "      <td>196</td>\n",
       "      <td>1.0</td>\n",
       "      <td>1.0</td>\n",
       "      <td>Soda</td>\n",
       "      <td>77.0</td>\n",
       "      <td>7.0</td>\n",
       "      <td>9.0</td>\n",
       "      <td>Mid-range product</td>\n",
       "      <td>Slowest days</td>\n",
       "      <td>Average orders</td>\n",
       "      <td>10.0</td>\n",
       "      <td>New customer</td>\n",
       "      <td>6.367797</td>\n",
       "      <td>Low spender</td>\n",
       "      <td>20.0</td>\n",
       "      <td>Regular customer</td>\n",
       "      <td>Linda</td>\n",
       "      <td>Nguyen</td>\n",
       "      <td>Alabama</td>\n",
       "      <td>31</td>\n",
       "      <td>3</td>\n",
       "      <td>40423</td>\n",
       "      <td>both</td>\n",
       "    </tr>\n",
       "    <tr>\n",
       "      <th>2</th>\n",
       "      <td>473747.0</td>\n",
       "      <td>1.0</td>\n",
       "      <td>3.0</td>\n",
       "      <td>3.0</td>\n",
       "      <td>12.0</td>\n",
       "      <td>21.0</td>\n",
       "      <td>196</td>\n",
       "      <td>1.0</td>\n",
       "      <td>1.0</td>\n",
       "      <td>Soda</td>\n",
       "      <td>77.0</td>\n",
       "      <td>7.0</td>\n",
       "      <td>9.0</td>\n",
       "      <td>Mid-range product</td>\n",
       "      <td>Slowest days</td>\n",
       "      <td>Most orders</td>\n",
       "      <td>10.0</td>\n",
       "      <td>New customer</td>\n",
       "      <td>6.367797</td>\n",
       "      <td>Low spender</td>\n",
       "      <td>20.0</td>\n",
       "      <td>Regular customer</td>\n",
       "      <td>Linda</td>\n",
       "      <td>Nguyen</td>\n",
       "      <td>Alabama</td>\n",
       "      <td>31</td>\n",
       "      <td>3</td>\n",
       "      <td>40423</td>\n",
       "      <td>both</td>\n",
       "    </tr>\n",
       "    <tr>\n",
       "      <th>3</th>\n",
       "      <td>2254736.0</td>\n",
       "      <td>1.0</td>\n",
       "      <td>4.0</td>\n",
       "      <td>4.0</td>\n",
       "      <td>7.0</td>\n",
       "      <td>29.0</td>\n",
       "      <td>196</td>\n",
       "      <td>1.0</td>\n",
       "      <td>1.0</td>\n",
       "      <td>Soda</td>\n",
       "      <td>77.0</td>\n",
       "      <td>7.0</td>\n",
       "      <td>9.0</td>\n",
       "      <td>Mid-range product</td>\n",
       "      <td>Slowest days</td>\n",
       "      <td>Average orders</td>\n",
       "      <td>10.0</td>\n",
       "      <td>New customer</td>\n",
       "      <td>6.367797</td>\n",
       "      <td>Low spender</td>\n",
       "      <td>20.0</td>\n",
       "      <td>Regular customer</td>\n",
       "      <td>Linda</td>\n",
       "      <td>Nguyen</td>\n",
       "      <td>Alabama</td>\n",
       "      <td>31</td>\n",
       "      <td>3</td>\n",
       "      <td>40423</td>\n",
       "      <td>both</td>\n",
       "    </tr>\n",
       "    <tr>\n",
       "      <th>4</th>\n",
       "      <td>431534.0</td>\n",
       "      <td>1.0</td>\n",
       "      <td>5.0</td>\n",
       "      <td>4.0</td>\n",
       "      <td>15.0</td>\n",
       "      <td>28.0</td>\n",
       "      <td>196</td>\n",
       "      <td>1.0</td>\n",
       "      <td>1.0</td>\n",
       "      <td>Soda</td>\n",
       "      <td>77.0</td>\n",
       "      <td>7.0</td>\n",
       "      <td>9.0</td>\n",
       "      <td>Mid-range product</td>\n",
       "      <td>Slowest days</td>\n",
       "      <td>Most orders</td>\n",
       "      <td>10.0</td>\n",
       "      <td>New customer</td>\n",
       "      <td>6.367797</td>\n",
       "      <td>Low spender</td>\n",
       "      <td>20.0</td>\n",
       "      <td>Regular customer</td>\n",
       "      <td>Linda</td>\n",
       "      <td>Nguyen</td>\n",
       "      <td>Alabama</td>\n",
       "      <td>31</td>\n",
       "      <td>3</td>\n",
       "      <td>40423</td>\n",
       "      <td>both</td>\n",
       "    </tr>\n",
       "  </tbody>\n",
       "</table>\n",
       "</div>"
      ],
      "text/plain": [
       "    order_id  user_id  order_number  orders_day_of_week  order_time  \\\n",
       "0  2539329.0      1.0           1.0                 2.0         8.0   \n",
       "1  2398795.0      1.0           2.0                 3.0         7.0   \n",
       "2   473747.0      1.0           3.0                 3.0        12.0   \n",
       "3  2254736.0      1.0           4.0                 4.0         7.0   \n",
       "4   431534.0      1.0           5.0                 4.0        15.0   \n",
       "\n",
       "   days_since_prior_order  product_id  add_to_cart_order  reordered  \\\n",
       "0                    11.0         196                1.0        0.0   \n",
       "1                    15.0         196                1.0        1.0   \n",
       "2                    21.0         196                1.0        1.0   \n",
       "3                    29.0         196                1.0        1.0   \n",
       "4                    28.0         196                1.0        1.0   \n",
       "\n",
       "  product_name  aisle_id  department_id  prices    price_range_loc  \\\n",
       "0         Soda      77.0            7.0     9.0  Mid-range product   \n",
       "1         Soda      77.0            7.0     9.0  Mid-range product   \n",
       "2         Soda      77.0            7.0     9.0  Mid-range product   \n",
       "3         Soda      77.0            7.0     9.0  Mid-range product   \n",
       "4         Soda      77.0            7.0     9.0  Mid-range product   \n",
       "\n",
       "     busiest_days busiest_period_of_day  max_order  loyalty_flag  \\\n",
       "0  Regularly busy        Average orders       10.0  New customer   \n",
       "1    Slowest days        Average orders       10.0  New customer   \n",
       "2    Slowest days           Most orders       10.0  New customer   \n",
       "3    Slowest days        Average orders       10.0  New customer   \n",
       "4    Slowest days           Most orders       10.0  New customer   \n",
       "\n",
       "   avg_price_spent spending_flag  median_since_prior_orders  \\\n",
       "0         6.367797   Low spender                       20.0   \n",
       "1         6.367797   Low spender                       20.0   \n",
       "2         6.367797   Low spender                       20.0   \n",
       "3         6.367797   Low spender                       20.0   \n",
       "4         6.367797   Low spender                       20.0   \n",
       "\n",
       "  order_frequency_flag first_name last_name    state  age  n_dependants  \\\n",
       "0     Regular customer      Linda    Nguyen  Alabama   31             3   \n",
       "1     Regular customer      Linda    Nguyen  Alabama   31             3   \n",
       "2     Regular customer      Linda    Nguyen  Alabama   31             3   \n",
       "3     Regular customer      Linda    Nguyen  Alabama   31             3   \n",
       "4     Regular customer      Linda    Nguyen  Alabama   31             3   \n",
       "\n",
       "   income _merge  \n",
       "0   40423   both  \n",
       "1   40423   both  \n",
       "2   40423   both  \n",
       "3   40423   both  \n",
       "4   40423   both  "
      ]
     },
     "execution_count": 5,
     "metadata": {},
     "output_type": "execute_result"
    }
   ],
   "source": [
    "df.head()"
   ]
  },
  {
   "cell_type": "code",
   "execution_count": 6,
   "metadata": {},
   "outputs": [
    {
     "data": {
      "text/plain": [
       "(30658154, 29)"
      ]
     },
     "execution_count": 6,
     "metadata": {},
     "output_type": "execute_result"
    }
   ],
   "source": [
    "df.shape"
   ]
  },
  {
   "cell_type": "code",
   "execution_count": 7,
   "metadata": {},
   "outputs": [
    {
     "name": "stdout",
     "output_type": "stream",
     "text": [
      "<class 'pandas.core.frame.DataFrame'>\n",
      "Int64Index: 30658154 entries, 0 to 30658153\n",
      "Data columns (total 29 columns):\n",
      " #   Column                     Dtype   \n",
      "---  ------                     -----   \n",
      " 0   order_id                   float64 \n",
      " 1   user_id                    float64 \n",
      " 2   order_number               float64 \n",
      " 3   orders_day_of_week         float64 \n",
      " 4   order_time                 float64 \n",
      " 5   days_since_prior_order     float64 \n",
      " 6   product_id                 int64   \n",
      " 7   add_to_cart_order          float64 \n",
      " 8   reordered                  float64 \n",
      " 9   product_name               object  \n",
      " 10  aisle_id                   float64 \n",
      " 11  department_id              float64 \n",
      " 12  prices                     float64 \n",
      " 13  price_range_loc            object  \n",
      " 14  busiest_days               object  \n",
      " 15  busiest_period_of_day      object  \n",
      " 16  max_order                  float64 \n",
      " 17  loyalty_flag               object  \n",
      " 18  avg_price_spent            float64 \n",
      " 19  spending_flag              object  \n",
      " 20  median_since_prior_orders  float64 \n",
      " 21  order_frequency_flag       object  \n",
      " 22  first_name                 object  \n",
      " 23  last_name                  object  \n",
      " 24  state                      object  \n",
      " 25  age                        int64   \n",
      " 26  n_dependants               int64   \n",
      " 27  income                     int64   \n",
      " 28  _merge                     category\n",
      "dtypes: category(1), float64(14), int64(4), object(10)\n",
      "memory usage: 6.7+ GB\n"
     ]
    }
   ],
   "source": [
    "df.info()"
   ]
  },
  {
   "cell_type": "markdown",
   "metadata": {},
   "source": [
    "# 2) Address Any PII Data"
   ]
  },
  {
   "cell_type": "markdown",
   "metadata": {},
   "source": [
    "#### Our dataframe contains personally identifiable information (PII) in the form of first names and last names. We must remove these columns in order to be able to move forward with our analysis."
   ]
  },
  {
   "cell_type": "code",
   "execution_count": 8,
   "metadata": {},
   "outputs": [],
   "source": [
    "# Removing first_name and last_name columns\n",
    "df_safe = df.drop(columns = ['first_name', 'last_name'])"
   ]
  },
  {
   "cell_type": "code",
   "execution_count": 9,
   "metadata": {},
   "outputs": [
    {
     "data": {
      "text/plain": [
       "(30658154, 27)"
      ]
     },
     "execution_count": 9,
     "metadata": {},
     "output_type": "execute_result"
    }
   ],
   "source": [
    "# Checking to see if we have 2 less columns in our updated dataframe\n",
    "df_safe.shape"
   ]
  },
  {
   "cell_type": "markdown",
   "metadata": {},
   "source": [
    "# 3) Comparing Customer Behavior in Different Geographic Areas"
   ]
  },
  {
   "cell_type": "code",
   "execution_count": 10,
   "metadata": {},
   "outputs": [],
   "source": [
    "# Group states to different regions according to Wikipedia link\n",
    "northeast = ['Maine', 'New Hampshire', 'Vermont', 'Massachusetts', 'Rhode Island', 'Connecticut', 'New York', 'Pennsylvania', 'New Jersey']\n",
    "midwest = ['Wisconsin', 'Michigan', 'Illinois', 'Indiana', 'Ohio', 'North Dakota', 'South Dakota', 'Nebraska', 'Kansas', 'Minnesota', 'Iowa', 'Missouri']\n",
    "south = ['Delaware', 'Maryland', 'District of Columbia', 'Virginia', 'West Virginia', 'North Carolina', 'South Carolina', 'Georgia', 'Florida', 'Kentucky', 'Tennessee', 'Mississippi', 'Alabama', 'Oklahoma', 'Texas', 'Arkansas', 'Louisiana']\n",
    "west = ['Idaho', 'Montana', 'Wyoming', 'Nevada', 'Utah', 'Colorado', 'Arizona', 'New Mexico', 'Alaska', 'Washington', 'Oregon', 'California', 'Hawaii']"
   ]
  },
  {
   "cell_type": "code",
   "execution_count": 11,
   "metadata": {},
   "outputs": [],
   "source": [
    "# If-Statements with the loc() function\n",
    "df_safe.loc[df_safe['state'].isin(northeast), 'region'] = 'Northeast'\n",
    "df_safe.loc[df_safe['state'].isin(midwest), 'region'] = 'Midwest'\n",
    "df_safe.loc[df_safe['state'].isin(south), 'region'] = 'South'\n",
    "df_safe.loc[df_safe['state'].isin(west), 'region'] = 'West'"
   ]
  },
  {
   "cell_type": "code",
   "execution_count": 12,
   "metadata": {},
   "outputs": [
    {
     "data": {
      "text/html": [
       "<div>\n",
       "<style scoped>\n",
       "    .dataframe tbody tr th:only-of-type {\n",
       "        vertical-align: middle;\n",
       "    }\n",
       "\n",
       "    .dataframe tbody tr th {\n",
       "        vertical-align: top;\n",
       "    }\n",
       "\n",
       "    .dataframe thead th {\n",
       "        text-align: right;\n",
       "    }\n",
       "</style>\n",
       "<table border=\"1\" class=\"dataframe\">\n",
       "  <thead>\n",
       "    <tr style=\"text-align: right;\">\n",
       "      <th></th>\n",
       "      <th>order_id</th>\n",
       "      <th>user_id</th>\n",
       "      <th>order_number</th>\n",
       "      <th>orders_day_of_week</th>\n",
       "      <th>order_time</th>\n",
       "      <th>days_since_prior_order</th>\n",
       "      <th>product_id</th>\n",
       "      <th>add_to_cart_order</th>\n",
       "      <th>reordered</th>\n",
       "      <th>product_name</th>\n",
       "      <th>aisle_id</th>\n",
       "      <th>department_id</th>\n",
       "      <th>prices</th>\n",
       "      <th>price_range_loc</th>\n",
       "      <th>busiest_days</th>\n",
       "      <th>busiest_period_of_day</th>\n",
       "      <th>max_order</th>\n",
       "      <th>loyalty_flag</th>\n",
       "      <th>avg_price_spent</th>\n",
       "      <th>spending_flag</th>\n",
       "      <th>median_since_prior_orders</th>\n",
       "      <th>order_frequency_flag</th>\n",
       "      <th>state</th>\n",
       "      <th>age</th>\n",
       "      <th>n_dependants</th>\n",
       "      <th>income</th>\n",
       "      <th>_merge</th>\n",
       "      <th>region</th>\n",
       "    </tr>\n",
       "  </thead>\n",
       "  <tbody>\n",
       "    <tr>\n",
       "      <th>0</th>\n",
       "      <td>2539329.0</td>\n",
       "      <td>1.0</td>\n",
       "      <td>1.0</td>\n",
       "      <td>2.0</td>\n",
       "      <td>8.0</td>\n",
       "      <td>11.0</td>\n",
       "      <td>196</td>\n",
       "      <td>1.0</td>\n",
       "      <td>0.0</td>\n",
       "      <td>Soda</td>\n",
       "      <td>77.0</td>\n",
       "      <td>7.0</td>\n",
       "      <td>9.0</td>\n",
       "      <td>Mid-range product</td>\n",
       "      <td>Regularly busy</td>\n",
       "      <td>Average orders</td>\n",
       "      <td>10.0</td>\n",
       "      <td>New customer</td>\n",
       "      <td>6.367797</td>\n",
       "      <td>Low spender</td>\n",
       "      <td>20.0</td>\n",
       "      <td>Regular customer</td>\n",
       "      <td>Alabama</td>\n",
       "      <td>31</td>\n",
       "      <td>3</td>\n",
       "      <td>40423</td>\n",
       "      <td>both</td>\n",
       "      <td>South</td>\n",
       "    </tr>\n",
       "    <tr>\n",
       "      <th>1</th>\n",
       "      <td>2398795.0</td>\n",
       "      <td>1.0</td>\n",
       "      <td>2.0</td>\n",
       "      <td>3.0</td>\n",
       "      <td>7.0</td>\n",
       "      <td>15.0</td>\n",
       "      <td>196</td>\n",
       "      <td>1.0</td>\n",
       "      <td>1.0</td>\n",
       "      <td>Soda</td>\n",
       "      <td>77.0</td>\n",
       "      <td>7.0</td>\n",
       "      <td>9.0</td>\n",
       "      <td>Mid-range product</td>\n",
       "      <td>Slowest days</td>\n",
       "      <td>Average orders</td>\n",
       "      <td>10.0</td>\n",
       "      <td>New customer</td>\n",
       "      <td>6.367797</td>\n",
       "      <td>Low spender</td>\n",
       "      <td>20.0</td>\n",
       "      <td>Regular customer</td>\n",
       "      <td>Alabama</td>\n",
       "      <td>31</td>\n",
       "      <td>3</td>\n",
       "      <td>40423</td>\n",
       "      <td>both</td>\n",
       "      <td>South</td>\n",
       "    </tr>\n",
       "    <tr>\n",
       "      <th>2</th>\n",
       "      <td>473747.0</td>\n",
       "      <td>1.0</td>\n",
       "      <td>3.0</td>\n",
       "      <td>3.0</td>\n",
       "      <td>12.0</td>\n",
       "      <td>21.0</td>\n",
       "      <td>196</td>\n",
       "      <td>1.0</td>\n",
       "      <td>1.0</td>\n",
       "      <td>Soda</td>\n",
       "      <td>77.0</td>\n",
       "      <td>7.0</td>\n",
       "      <td>9.0</td>\n",
       "      <td>Mid-range product</td>\n",
       "      <td>Slowest days</td>\n",
       "      <td>Most orders</td>\n",
       "      <td>10.0</td>\n",
       "      <td>New customer</td>\n",
       "      <td>6.367797</td>\n",
       "      <td>Low spender</td>\n",
       "      <td>20.0</td>\n",
       "      <td>Regular customer</td>\n",
       "      <td>Alabama</td>\n",
       "      <td>31</td>\n",
       "      <td>3</td>\n",
       "      <td>40423</td>\n",
       "      <td>both</td>\n",
       "      <td>South</td>\n",
       "    </tr>\n",
       "    <tr>\n",
       "      <th>3</th>\n",
       "      <td>2254736.0</td>\n",
       "      <td>1.0</td>\n",
       "      <td>4.0</td>\n",
       "      <td>4.0</td>\n",
       "      <td>7.0</td>\n",
       "      <td>29.0</td>\n",
       "      <td>196</td>\n",
       "      <td>1.0</td>\n",
       "      <td>1.0</td>\n",
       "      <td>Soda</td>\n",
       "      <td>77.0</td>\n",
       "      <td>7.0</td>\n",
       "      <td>9.0</td>\n",
       "      <td>Mid-range product</td>\n",
       "      <td>Slowest days</td>\n",
       "      <td>Average orders</td>\n",
       "      <td>10.0</td>\n",
       "      <td>New customer</td>\n",
       "      <td>6.367797</td>\n",
       "      <td>Low spender</td>\n",
       "      <td>20.0</td>\n",
       "      <td>Regular customer</td>\n",
       "      <td>Alabama</td>\n",
       "      <td>31</td>\n",
       "      <td>3</td>\n",
       "      <td>40423</td>\n",
       "      <td>both</td>\n",
       "      <td>South</td>\n",
       "    </tr>\n",
       "    <tr>\n",
       "      <th>4</th>\n",
       "      <td>431534.0</td>\n",
       "      <td>1.0</td>\n",
       "      <td>5.0</td>\n",
       "      <td>4.0</td>\n",
       "      <td>15.0</td>\n",
       "      <td>28.0</td>\n",
       "      <td>196</td>\n",
       "      <td>1.0</td>\n",
       "      <td>1.0</td>\n",
       "      <td>Soda</td>\n",
       "      <td>77.0</td>\n",
       "      <td>7.0</td>\n",
       "      <td>9.0</td>\n",
       "      <td>Mid-range product</td>\n",
       "      <td>Slowest days</td>\n",
       "      <td>Most orders</td>\n",
       "      <td>10.0</td>\n",
       "      <td>New customer</td>\n",
       "      <td>6.367797</td>\n",
       "      <td>Low spender</td>\n",
       "      <td>20.0</td>\n",
       "      <td>Regular customer</td>\n",
       "      <td>Alabama</td>\n",
       "      <td>31</td>\n",
       "      <td>3</td>\n",
       "      <td>40423</td>\n",
       "      <td>both</td>\n",
       "      <td>South</td>\n",
       "    </tr>\n",
       "  </tbody>\n",
       "</table>\n",
       "</div>"
      ],
      "text/plain": [
       "    order_id  user_id  order_number  orders_day_of_week  order_time  \\\n",
       "0  2539329.0      1.0           1.0                 2.0         8.0   \n",
       "1  2398795.0      1.0           2.0                 3.0         7.0   \n",
       "2   473747.0      1.0           3.0                 3.0        12.0   \n",
       "3  2254736.0      1.0           4.0                 4.0         7.0   \n",
       "4   431534.0      1.0           5.0                 4.0        15.0   \n",
       "\n",
       "   days_since_prior_order  product_id  add_to_cart_order  reordered  \\\n",
       "0                    11.0         196                1.0        0.0   \n",
       "1                    15.0         196                1.0        1.0   \n",
       "2                    21.0         196                1.0        1.0   \n",
       "3                    29.0         196                1.0        1.0   \n",
       "4                    28.0         196                1.0        1.0   \n",
       "\n",
       "  product_name  aisle_id  department_id  prices    price_range_loc  \\\n",
       "0         Soda      77.0            7.0     9.0  Mid-range product   \n",
       "1         Soda      77.0            7.0     9.0  Mid-range product   \n",
       "2         Soda      77.0            7.0     9.0  Mid-range product   \n",
       "3         Soda      77.0            7.0     9.0  Mid-range product   \n",
       "4         Soda      77.0            7.0     9.0  Mid-range product   \n",
       "\n",
       "     busiest_days busiest_period_of_day  max_order  loyalty_flag  \\\n",
       "0  Regularly busy        Average orders       10.0  New customer   \n",
       "1    Slowest days        Average orders       10.0  New customer   \n",
       "2    Slowest days           Most orders       10.0  New customer   \n",
       "3    Slowest days        Average orders       10.0  New customer   \n",
       "4    Slowest days           Most orders       10.0  New customer   \n",
       "\n",
       "   avg_price_spent spending_flag  median_since_prior_orders  \\\n",
       "0         6.367797   Low spender                       20.0   \n",
       "1         6.367797   Low spender                       20.0   \n",
       "2         6.367797   Low spender                       20.0   \n",
       "3         6.367797   Low spender                       20.0   \n",
       "4         6.367797   Low spender                       20.0   \n",
       "\n",
       "  order_frequency_flag    state  age  n_dependants  income _merge region  \n",
       "0     Regular customer  Alabama   31             3   40423   both  South  \n",
       "1     Regular customer  Alabama   31             3   40423   both  South  \n",
       "2     Regular customer  Alabama   31             3   40423   both  South  \n",
       "3     Regular customer  Alabama   31             3   40423   both  South  \n",
       "4     Regular customer  Alabama   31             3   40423   both  South  "
      ]
     },
     "execution_count": 12,
     "metadata": {},
     "output_type": "execute_result"
    }
   ],
   "source": [
    "# Check our dataframe\n",
    "# Last column should be 'region'\n",
    "df_safe.head()"
   ]
  },
  {
   "cell_type": "code",
   "execution_count": 13,
   "metadata": {},
   "outputs": [
    {
     "data": {
      "text/plain": [
       "South        10208462\n",
       "West          7839106\n",
       "Midwest       7183231\n",
       "Northeast     5427355\n",
       "Name: region, dtype: int64"
      ]
     },
     "execution_count": 13,
     "metadata": {},
     "output_type": "execute_result"
    }
   ],
   "source": [
    "# Count values of region column\n",
    "df_safe['region'].value_counts(dropna = False)"
   ]
  },
  {
   "cell_type": "code",
   "execution_count": 14,
   "metadata": {},
   "outputs": [],
   "source": [
    "# Create a crosstab to compare region and spending_flag\n",
    "region_spending_crosstab = pd.crosstab(df_safe['region'], df_safe['spending_flag'], dropna = False)"
   ]
  },
  {
   "cell_type": "code",
   "execution_count": 15,
   "metadata": {},
   "outputs": [
    {
     "data": {
      "text/html": [
       "<div>\n",
       "<style scoped>\n",
       "    .dataframe tbody tr th:only-of-type {\n",
       "        vertical-align: middle;\n",
       "    }\n",
       "\n",
       "    .dataframe tbody tr th {\n",
       "        vertical-align: top;\n",
       "    }\n",
       "\n",
       "    .dataframe thead th {\n",
       "        text-align: right;\n",
       "    }\n",
       "</style>\n",
       "<table border=\"1\" class=\"dataframe\">\n",
       "  <thead>\n",
       "    <tr style=\"text-align: right;\">\n",
       "      <th>spending_flag</th>\n",
       "      <th>High spender</th>\n",
       "      <th>Low spender</th>\n",
       "    </tr>\n",
       "    <tr>\n",
       "      <th>region</th>\n",
       "      <th></th>\n",
       "      <th></th>\n",
       "    </tr>\n",
       "  </thead>\n",
       "  <tbody>\n",
       "    <tr>\n",
       "      <th>Midwest</th>\n",
       "      <td>149888</td>\n",
       "      <td>7033343</td>\n",
       "    </tr>\n",
       "    <tr>\n",
       "      <th>Northeast</th>\n",
       "      <td>101468</td>\n",
       "      <td>5325887</td>\n",
       "    </tr>\n",
       "    <tr>\n",
       "      <th>South</th>\n",
       "      <td>196637</td>\n",
       "      <td>10011825</td>\n",
       "    </tr>\n",
       "    <tr>\n",
       "      <th>West</th>\n",
       "      <td>147850</td>\n",
       "      <td>7691256</td>\n",
       "    </tr>\n",
       "  </tbody>\n",
       "</table>\n",
       "</div>"
      ],
      "text/plain": [
       "spending_flag  High spender  Low spender\n",
       "region                                  \n",
       "Midwest              149888      7033343\n",
       "Northeast            101468      5325887\n",
       "South                196637     10011825\n",
       "West                 147850      7691256"
      ]
     },
     "execution_count": 15,
     "metadata": {},
     "output_type": "execute_result"
    }
   ],
   "source": [
    "# Checking crosstab\n",
    "region_spending_crosstab"
   ]
  },
  {
   "cell_type": "markdown",
   "metadata": {},
   "source": [
    "South region has the greatest amount of both high and low spenders compared to other regions. This could be due to the fact that this region contains the most states as well.\n",
    "\n",
    "Midwest and West regions are nearly identical, with Midwest having more high spenders, and West having more low spenders.\n",
    "\n",
    "Northeast is the lowest among all regions in both high and low spenders."
   ]
  },
  {
   "cell_type": "markdown",
   "metadata": {},
   "source": [
    "# 4) Exclusion Flag for Low-Activity Customers"
   ]
  },
  {
   "cell_type": "markdown",
   "metadata": {},
   "source": [
    "In order to remove low activity customers, we must look at the max_order column and exclude anyone with a max_order value of less than 5 orders."
   ]
  },
  {
   "cell_type": "code",
   "execution_count": 16,
   "metadata": {},
   "outputs": [],
   "source": [
    "df_2 = df_safe[df_safe['max_order'] >= 5]"
   ]
  },
  {
   "cell_type": "code",
   "execution_count": 17,
   "metadata": {},
   "outputs": [
    {
     "data": {
      "text/plain": [
       "(29298154, 28)"
      ]
     },
     "execution_count": 17,
     "metadata": {},
     "output_type": "execute_result"
    }
   ],
   "source": [
    "# Checking the new dataframe\n",
    "df_2.shape"
   ]
  },
  {
   "cell_type": "code",
   "execution_count": 18,
   "metadata": {},
   "outputs": [
    {
     "data": {
      "text/plain": [
       "(30658154, 28)"
      ]
     },
     "execution_count": 18,
     "metadata": {},
     "output_type": "execute_result"
    }
   ],
   "source": [
    "# Comparing df_safe shape with the new df\n",
    "df_safe.shape"
   ]
  },
  {
   "cell_type": "markdown",
   "metadata": {},
   "source": [
    "Looks like we removed about 1,360,000 rows by excluding low activity customers"
   ]
  },
  {
   "cell_type": "markdown",
   "metadata": {},
   "source": [
    "# 5 & 6) Profiling Customers and Visualizations"
   ]
  },
  {
   "cell_type": "markdown",
   "metadata": {},
   "source": [
    "## Customers Age"
   ]
  },
  {
   "cell_type": "code",
   "execution_count": 20,
   "metadata": {},
   "outputs": [
    {
     "data": {
      "text/plain": [
       "count    2.929815e+07\n",
       "mean     4.947572e+01\n",
       "std      1.847850e+01\n",
       "min      1.800000e+01\n",
       "25%      3.400000e+01\n",
       "50%      4.900000e+01\n",
       "75%      6.500000e+01\n",
       "max      8.100000e+01\n",
       "Name: age, dtype: float64"
      ]
     },
     "execution_count": 20,
     "metadata": {},
     "output_type": "execute_result"
    }
   ],
   "source": [
    "df_2['age'].describe()"
   ]
  },
  {
   "cell_type": "markdown",
   "metadata": {},
   "source": [
    "### Histogram for Customer Age"
   ]
  },
  {
   "cell_type": "code",
   "execution_count": 21,
   "metadata": {
    "scrolled": true
   },
   "outputs": [
    {
     "data": {
      "text/plain": [
       "<AxesSubplot:ylabel='Frequency'>"
      ]
     },
     "execution_count": 21,
     "metadata": {},
     "output_type": "execute_result"
    },
    {
     "data": {
      "image/png": "[encoded data removed]",
      "text/plain": [
       "<Figure size 432x288 with 1 Axes>"
      ]
     },
     "metadata": {
      "needs_background": "light"
     },
     "output_type": "display_data"
    }
   ],
   "source": [
    "df_2['age'].plot.hist(bins = 81)"
   ]
  },
  {
   "cell_type": "markdown",
   "metadata": {},
   "source": [
    "### Grouping Customers Into 3 Different Droups According to Age"
   ]
  },
  {
   "cell_type": "code",
   "execution_count": 22,
   "metadata": {
    "scrolled": true
   },
   "outputs": [
    {
     "name": "stderr",
     "output_type": "stream",
     "text": [
      "C:\\Users\\Aaron\\anaconda3\\lib\\site-packages\\pandas\\core\\indexing.py:1596: SettingWithCopyWarning: \n",
      "A value is trying to be set on a copy of a slice from a DataFrame.\n",
      "Try using .loc[row_indexer,col_indexer] = value instead\n",
      "\n",
      "See the caveats in the documentation: https://pandas.pydata.org/pandas-docs/stable/user_guide/indexing.html#returning-a-view-versus-a-copy\n",
      "  self.obj[key] = _infer_fill_value(value)\n",
      "C:\\Users\\Aaron\\anaconda3\\lib\\site-packages\\pandas\\core\\indexing.py:1765: SettingWithCopyWarning: \n",
      "A value is trying to be set on a copy of a slice from a DataFrame.\n",
      "Try using .loc[row_indexer,col_indexer] = value instead\n",
      "\n",
      "See the caveats in the documentation: https://pandas.pydata.org/pandas-docs/stable/user_guide/indexing.html#returning-a-view-versus-a-copy\n",
      "  isetter(loc, value)\n",
      "C:\\Users\\Aaron\\anaconda3\\lib\\site-packages\\pandas\\core\\indexing.py:1765: SettingWithCopyWarning: \n",
      "A value is trying to be set on a copy of a slice from a DataFrame.\n",
      "Try using .loc[row_indexer,col_indexer] = value instead\n",
      "\n",
      "See the caveats in the documentation: https://pandas.pydata.org/pandas-docs/stable/user_guide/indexing.html#returning-a-view-versus-a-copy\n",
      "  isetter(loc, value)\n",
      "C:\\Users\\Aaron\\anaconda3\\lib\\site-packages\\pandas\\core\\indexing.py:1765: SettingWithCopyWarning: \n",
      "A value is trying to be set on a copy of a slice from a DataFrame.\n",
      "Try using .loc[row_indexer,col_indexer] = value instead\n",
      "\n",
      "See the caveats in the documentation: https://pandas.pydata.org/pandas-docs/stable/user_guide/indexing.html#returning-a-view-versus-a-copy\n",
      "  isetter(loc, value)\n"
     ]
    }
   ],
   "source": [
    "# Create age_group classification\n",
    "df_2.loc[df_2['age'] < 36, 'age_group'] = 'Young Adult'\n",
    "df_2.loc[(df_2['age'] >= 36) & (df_2['age'] < 65), 'age_group'] = 'Middle Aged'\n",
    "df_2.loc[df_2['age'] >= 65, 'age_group'] = 'Senior'"
   ]
  },
  {
   "cell_type": "code",
   "execution_count": 23,
   "metadata": {},
   "outputs": [
    {
     "data": {
      "text/plain": [
       "Middle Aged    13300714\n",
       "Young Adult     8251190\n",
       "Senior          7746250\n",
       "Name: age_group, dtype: int64"
      ]
     },
     "execution_count": 23,
     "metadata": {},
     "output_type": "execute_result"
    }
   ],
   "source": [
    "# Counting the values for each group\n",
    "df_2['age_group'].value_counts(dropna = False)"
   ]
  },
  {
   "cell_type": "markdown",
   "metadata": {},
   "source": [
    "### Bar Chart for Age Groups"
   ]
  },
  {
   "cell_type": "code",
   "execution_count": 24,
   "metadata": {
    "scrolled": true
   },
   "outputs": [
    {
     "data": {
      "image/png": "[encoded data removed]",
      "text/plain": [
       "<Figure size 432x288 with 1 Axes>"
      ]
     },
     "metadata": {
      "needs_background": "light"
     },
     "output_type": "display_data"
    }
   ],
   "source": [
    "age_group_bar = df_2['age_group'].value_counts().plot.bar()"
   ]
  },
  {
   "cell_type": "markdown",
   "metadata": {},
   "source": [
    "### Pie Chart for Age Groups"
   ]
  },
  {
   "cell_type": "code",
   "execution_count": 25,
   "metadata": {},
   "outputs": [
    {
     "data": {
      "image/png": "[encoded data removed]",
      "text/plain": [
       "<Figure size 432x288 with 1 Axes>"
      ]
     },
     "metadata": {},
     "output_type": "display_data"
    }
   ],
   "source": [
    "my_data = [13300714, 8251190, 7746250]\n",
    "my_labels = 'Middle Aged', 'Young Adult', 'Senior'\n",
    "cust_age_pie = plt.pie(my_data, labels=my_labels, autopct='%1.1f%%')\n",
    "plt.title('Breakdown of Customers Age Groups', fontsize = 15)\n",
    "plt.axis('equal')\n",
    "plt.show()"
   ]
  },
  {
   "cell_type": "markdown",
   "metadata": {},
   "source": [
    "## Customer Income"
   ]
  },
  {
   "cell_type": "code",
   "execution_count": 26,
   "metadata": {},
   "outputs": [
    {
     "data": {
      "text/plain": [
       "count    2.929815e+07\n",
       "mean     9.969409e+04\n",
       "std      4.314632e+04\n",
       "min      2.590300e+04\n",
       "25%      6.736300e+04\n",
       "50%      9.676000e+04\n",
       "75%      1.281380e+05\n",
       "max      5.939010e+05\n",
       "Name: income, dtype: float64"
      ]
     },
     "execution_count": 26,
     "metadata": {},
     "output_type": "execute_result"
    }
   ],
   "source": [
    "df_2['income'].describe()"
   ]
  },
  {
   "cell_type": "markdown",
   "metadata": {},
   "source": [
    "### Scatterplot For Customer Age and Income"
   ]
  },
  {
   "cell_type": "code",
   "execution_count": 27,
   "metadata": {
    "scrolled": true
   },
   "outputs": [
    {
     "data": {
      "image/png": "[encoded data removed]",
      "text/plain": [
       "<Figure size 432x288 with 1 Axes>"
      ]
     },
     "metadata": {
      "needs_background": "light"
     },
     "output_type": "display_data"
    }
   ],
   "source": [
    "scat_age_income = sns.scatterplot(x = 'age', y = 'income', data = df_2)"
   ]
  },
  {
   "cell_type": "markdown",
   "metadata": {},
   "source": [
    "### Grouping Customers By Their Income\n",
    "\n",
    "Customers will be divided into 3 groups based on their income.\n",
    "\n",
    "Group 1 = income of 0 - 50,000\n",
    "\n",
    "Group 2 = income of 50,001 = 100,000\n",
    "\n",
    "Group 3 = income of 100,000+"
   ]
  },
  {
   "cell_type": "code",
   "execution_count": 28,
   "metadata": {
    "scrolled": true
   },
   "outputs": [
    {
     "name": "stderr",
     "output_type": "stream",
     "text": [
      "C:\\Users\\Aaron\\anaconda3\\lib\\site-packages\\pandas\\core\\indexing.py:1596: SettingWithCopyWarning: \n",
      "A value is trying to be set on a copy of a slice from a DataFrame.\n",
      "Try using .loc[row_indexer,col_indexer] = value instead\n",
      "\n",
      "See the caveats in the documentation: https://pandas.pydata.org/pandas-docs/stable/user_guide/indexing.html#returning-a-view-versus-a-copy\n",
      "  self.obj[key] = _infer_fill_value(value)\n",
      "C:\\Users\\Aaron\\anaconda3\\lib\\site-packages\\pandas\\core\\indexing.py:1765: SettingWithCopyWarning: \n",
      "A value is trying to be set on a copy of a slice from a DataFrame.\n",
      "Try using .loc[row_indexer,col_indexer] = value instead\n",
      "\n",
      "See the caveats in the documentation: https://pandas.pydata.org/pandas-docs/stable/user_guide/indexing.html#returning-a-view-versus-a-copy\n",
      "  isetter(loc, value)\n",
      "C:\\Users\\Aaron\\anaconda3\\lib\\site-packages\\pandas\\core\\indexing.py:1765: SettingWithCopyWarning: \n",
      "A value is trying to be set on a copy of a slice from a DataFrame.\n",
      "Try using .loc[row_indexer,col_indexer] = value instead\n",
      "\n",
      "See the caveats in the documentation: https://pandas.pydata.org/pandas-docs/stable/user_guide/indexing.html#returning-a-view-versus-a-copy\n",
      "  isetter(loc, value)\n",
      "C:\\Users\\Aaron\\anaconda3\\lib\\site-packages\\pandas\\core\\indexing.py:1765: SettingWithCopyWarning: \n",
      "A value is trying to be set on a copy of a slice from a DataFrame.\n",
      "Try using .loc[row_indexer,col_indexer] = value instead\n",
      "\n",
      "See the caveats in the documentation: https://pandas.pydata.org/pandas-docs/stable/user_guide/indexing.html#returning-a-view-versus-a-copy\n",
      "  isetter(loc, value)\n"
     ]
    }
   ],
   "source": [
    "# Dividing customers into 3 groups\n",
    "df_2.loc[(df_2['income'] <= 50000), 'income_group'] = '0-50k'\n",
    "df_2.loc[(df_2['income'] > 50000) & (df_2['income'] <= 100000), 'income_group'] = '50k-100k'\n",
    "df_2.loc[(df_2['income'] > 100000), 'income_group'] = '100k+'"
   ]
  },
  {
   "cell_type": "code",
   "execution_count": 29,
   "metadata": {},
   "outputs": [
    {
     "data": {
      "text/plain": [
       "100k+       13447376\n",
       "50k-100k    12678554\n",
       "0-50k        3172224\n",
       "Name: income_group, dtype: int64"
      ]
     },
     "execution_count": 29,
     "metadata": {},
     "output_type": "execute_result"
    }
   ],
   "source": [
    "# Counting the values of each group\n",
    "df_2['income_group'].value_counts(dropna = False)"
   ]
  },
  {
   "cell_type": "markdown",
   "metadata": {},
   "source": [
    "### Bar Chart Showing Income Groups"
   ]
  },
  {
   "cell_type": "code",
   "execution_count": 30,
   "metadata": {},
   "outputs": [
    {
     "data": {
      "image/png": "[encoded data removed]",
      "text/plain": [
       "<Figure size 432x288 with 1 Axes>"
      ]
     },
     "metadata": {
      "needs_background": "light"
     },
     "output_type": "display_data"
    }
   ],
   "source": [
    "income_group_bar = df_2['income_group'].value_counts().plot.bar(color = ['green', 'limegreen', 'lawngreen'])"
   ]
  },
  {
   "cell_type": "code",
   "execution_count": 31,
   "metadata": {},
   "outputs": [
    {
     "data": {
      "image/png": "[encoded data removed]",
      "text/plain": [
       "<Figure size 432x288 with 1 Axes>"
      ]
     },
     "metadata": {},
     "output_type": "display_data"
    }
   ],
   "source": [
    "my_data = [13447376, 12678554, 3172224]\n",
    "my_labels = '100k+', '50k-100k', '0-50k'\n",
    "cust_income_pie = plt.pie(my_data, labels=my_labels, autopct='%1.1f%%')\n",
    "plt.title('Breakdown of Customers Income', fontsize = 15)\n",
    "plt.axis('equal')\n",
    "plt.show()"
   ]
  },
  {
   "cell_type": "markdown",
   "metadata": {},
   "source": [
    "## Customer Number of Dependants"
   ]
  },
  {
   "cell_type": "code",
   "execution_count": 32,
   "metadata": {},
   "outputs": [
    {
     "data": {
      "text/plain": [
       "count    2.929815e+07\n",
       "mean     1.501585e+00\n",
       "std      1.118501e+00\n",
       "min      0.000000e+00\n",
       "25%      1.000000e+00\n",
       "50%      2.000000e+00\n",
       "75%      3.000000e+00\n",
       "max      3.000000e+00\n",
       "Name: n_dependants, dtype: float64"
      ]
     },
     "execution_count": 32,
     "metadata": {},
     "output_type": "execute_result"
    }
   ],
   "source": [
    "df_2['n_dependants'].describe()"
   ]
  },
  {
   "cell_type": "markdown",
   "metadata": {},
   "source": [
    "### Line Chart showing age and number of dependants"
   ]
  },
  {
   "cell_type": "code",
   "execution_count": 33,
   "metadata": {},
   "outputs": [
    {
     "data": {
      "image/png": "[encoded data removed]",
      "text/plain": [
       "<Figure size 432x288 with 1 Axes>"
      ]
     },
     "metadata": {
      "needs_background": "light"
     },
     "output_type": "display_data"
    }
   ],
   "source": [
    "age_dependants_line = sns.lineplot(data = df_2, x = 'age', y = 'n_dependants')"
   ]
  },
  {
   "cell_type": "markdown",
   "metadata": {},
   "source": [
    "### Crosstab of Age and n_dependents"
   ]
  },
  {
   "cell_type": "code",
   "execution_count": 34,
   "metadata": {},
   "outputs": [],
   "source": [
    "age_dependants_crosstab = pd.crosstab(df_2['age'], df_2['n_dependants'], dropna = False)"
   ]
  },
  {
   "cell_type": "code",
   "execution_count": 35,
   "metadata": {},
   "outputs": [
    {
     "data": {
      "text/html": [
       "<div>\n",
       "<style scoped>\n",
       "    .dataframe tbody tr th:only-of-type {\n",
       "        vertical-align: middle;\n",
       "    }\n",
       "\n",
       "    .dataframe tbody tr th {\n",
       "        vertical-align: top;\n",
       "    }\n",
       "\n",
       "    .dataframe thead th {\n",
       "        text-align: right;\n",
       "    }\n",
       "</style>\n",
       "<table border=\"1\" class=\"dataframe\">\n",
       "  <thead>\n",
       "    <tr style=\"text-align: right;\">\n",
       "      <th>n_dependants</th>\n",
       "      <th>0</th>\n",
       "      <th>1</th>\n",
       "      <th>2</th>\n",
       "      <th>3</th>\n",
       "    </tr>\n",
       "    <tr>\n",
       "      <th>age</th>\n",
       "      <th></th>\n",
       "      <th></th>\n",
       "      <th></th>\n",
       "      <th></th>\n",
       "    </tr>\n",
       "  </thead>\n",
       "  <tbody>\n",
       "    <tr>\n",
       "      <th>18</th>\n",
       "      <td>111137</td>\n",
       "      <td>118448</td>\n",
       "      <td>104312</td>\n",
       "      <td>118713</td>\n",
       "    </tr>\n",
       "    <tr>\n",
       "      <th>19</th>\n",
       "      <td>99747</td>\n",
       "      <td>126206</td>\n",
       "      <td>122180</td>\n",
       "      <td>122123</td>\n",
       "    </tr>\n",
       "    <tr>\n",
       "      <th>20</th>\n",
       "      <td>113942</td>\n",
       "      <td>122360</td>\n",
       "      <td>113325</td>\n",
       "      <td>108323</td>\n",
       "    </tr>\n",
       "    <tr>\n",
       "      <th>21</th>\n",
       "      <td>113141</td>\n",
       "      <td>120622</td>\n",
       "      <td>118438</td>\n",
       "      <td>111528</td>\n",
       "    </tr>\n",
       "    <tr>\n",
       "      <th>22</th>\n",
       "      <td>120692</td>\n",
       "      <td>119744</td>\n",
       "      <td>107509</td>\n",
       "      <td>114950</td>\n",
       "    </tr>\n",
       "    <tr>\n",
       "      <th>...</th>\n",
       "      <td>...</td>\n",
       "      <td>...</td>\n",
       "      <td>...</td>\n",
       "      <td>...</td>\n",
       "    </tr>\n",
       "    <tr>\n",
       "      <th>77</th>\n",
       "      <td>108139</td>\n",
       "      <td>113201</td>\n",
       "      <td>121154</td>\n",
       "      <td>109855</td>\n",
       "    </tr>\n",
       "    <tr>\n",
       "      <th>78</th>\n",
       "      <td>118062</td>\n",
       "      <td>118613</td>\n",
       "      <td>112884</td>\n",
       "      <td>99214</td>\n",
       "    </tr>\n",
       "    <tr>\n",
       "      <th>79</th>\n",
       "      <td>113360</td>\n",
       "      <td>119295</td>\n",
       "      <td>125301</td>\n",
       "      <td>120832</td>\n",
       "    </tr>\n",
       "    <tr>\n",
       "      <th>80</th>\n",
       "      <td>111019</td>\n",
       "      <td>119619</td>\n",
       "      <td>109729</td>\n",
       "      <td>121573</td>\n",
       "    </tr>\n",
       "    <tr>\n",
       "      <th>81</th>\n",
       "      <td>129803</td>\n",
       "      <td>101237</td>\n",
       "      <td>112723</td>\n",
       "      <td>113175</td>\n",
       "    </tr>\n",
       "  </tbody>\n",
       "</table>\n",
       "<p>64 rows × 4 columns</p>\n",
       "</div>"
      ],
      "text/plain": [
       "n_dependants       0       1       2       3\n",
       "age                                         \n",
       "18            111137  118448  104312  118713\n",
       "19             99747  126206  122180  122123\n",
       "20            113942  122360  113325  108323\n",
       "21            113141  120622  118438  111528\n",
       "22            120692  119744  107509  114950\n",
       "..               ...     ...     ...     ...\n",
       "77            108139  113201  121154  109855\n",
       "78            118062  118613  112884   99214\n",
       "79            113360  119295  125301  120832\n",
       "80            111019  119619  109729  121573\n",
       "81            129803  101237  112723  113175\n",
       "\n",
       "[64 rows x 4 columns]"
      ]
     },
     "execution_count": 35,
     "metadata": {},
     "output_type": "execute_result"
    }
   ],
   "source": [
    "age_dependants_crosstab"
   ]
  },
  {
   "cell_type": "code",
   "execution_count": 36,
   "metadata": {
    "scrolled": true
   },
   "outputs": [
    {
     "data": {
      "text/plain": [
       "3    7344798\n",
       "2    7325527\n",
       "0    7319617\n",
       "1    7308212\n",
       "Name: n_dependants, dtype: int64"
      ]
     },
     "execution_count": 36,
     "metadata": {},
     "output_type": "execute_result"
    }
   ],
   "source": [
    "# Count of customers and how many dependants they have\n",
    "df_2['n_dependants'].value_counts(dropna = False)"
   ]
  },
  {
   "cell_type": "markdown",
   "metadata": {},
   "source": [
    "### Pie Chart Showing Distribution of Customers and the Number of Children They Have"
   ]
  },
  {
   "cell_type": "code",
   "execution_count": 37,
   "metadata": {},
   "outputs": [
    {
     "data": {
      "image/png": "[encoded data removed]",
      "text/plain": [
       "<Figure size 432x288 with 1 Axes>"
      ]
     },
     "metadata": {},
     "output_type": "display_data"
    }
   ],
   "source": [
    "my_data = [7344798, 7325527, 7319617, 7308212]\n",
    "my_labels = '3', '2', '0', '1'\n",
    "cust_dependants_pie = plt.pie(my_data, labels=my_labels, autopct='%1.1f%%')\n",
    "plt.title('Breakdown of Customers and the Amount of Dependants they have', fontsize = 15)\n",
    "plt.axis('equal')\n",
    "plt.show()"
   ]
  },
  {
   "cell_type": "markdown",
   "metadata": {},
   "source": [
    "## Customers Diet\n",
    "For department_id profiling variable, I will group customers into 2 groups, vegans and non-vegans. To do so, customers who did NOT purhcase any meat/seafood and/or dairy/eggs will be categorized as vegans."
   ]
  },
  {
   "cell_type": "code",
   "execution_count": 38,
   "metadata": {},
   "outputs": [],
   "source": [
    "# Creating a crosstab between 'department_id' and 'user_id'\n",
    "\n",
    "dept_user_crosstab = pd.crosstab(df_2['department_id'], df_2['user_id'], dropna = False)"
   ]
  },
  {
   "cell_type": "code",
   "execution_count": 39,
   "metadata": {},
   "outputs": [],
   "source": [
    "# Assigning vegan flags to users and storing it in a dictionary\n",
    "vegan_dict = dict()\n",
    "for user in dept_user_crosstab:\n",
    "    workinglist = dept_user_crosstab[user].tolist()\n",
    "    if workinglist[11] == 0 and workinglist[15] == 0:\n",
    "        vegan_dict[user] = 'Vegan'\n",
    "    else:\n",
    "        vegan_dict[user] = 'Non-vegan'"
   ]
  },
  {
   "cell_type": "code",
   "execution_count": 40,
   "metadata": {},
   "outputs": [],
   "source": [
    "# assigning user flags to the list\n",
    "vegan_list = []\n",
    "for user in df_2['user_id']:\n",
    "    vegan_list.append(vegan_dict[user])"
   ]
  },
  {
   "cell_type": "code",
   "execution_count": 41,
   "metadata": {},
   "outputs": [
    {
     "name": "stderr",
     "output_type": "stream",
     "text": [
      "<ipython-input-41-a8f252109ce8>:2: SettingWithCopyWarning: \n",
      "A value is trying to be set on a copy of a slice from a DataFrame.\n",
      "Try using .loc[row_indexer,col_indexer] = value instead\n",
      "\n",
      "See the caveats in the documentation: https://pandas.pydata.org/pandas-docs/stable/user_guide/indexing.html#returning-a-view-versus-a-copy\n",
      "  df_2['vegan_nonvegan'] = vegan_list\n"
     ]
    }
   ],
   "source": [
    "#Adding 'vegan_nonvegan' column to our main dataframe\n",
    "df_2['vegan_nonvegan'] = vegan_list"
   ]
  },
  {
   "cell_type": "code",
   "execution_count": 42,
   "metadata": {},
   "outputs": [
    {
     "data": {
      "text/html": [
       "<div>\n",
       "<style scoped>\n",
       "    .dataframe tbody tr th:only-of-type {\n",
       "        vertical-align: middle;\n",
       "    }\n",
       "\n",
       "    .dataframe tbody tr th {\n",
       "        vertical-align: top;\n",
       "    }\n",
       "\n",
       "    .dataframe thead th {\n",
       "        text-align: right;\n",
       "    }\n",
       "</style>\n",
       "<table border=\"1\" class=\"dataframe\">\n",
       "  <thead>\n",
       "    <tr style=\"text-align: right;\">\n",
       "      <th></th>\n",
       "      <th>order_id</th>\n",
       "      <th>user_id</th>\n",
       "      <th>order_number</th>\n",
       "      <th>orders_day_of_week</th>\n",
       "      <th>order_time</th>\n",
       "      <th>days_since_prior_order</th>\n",
       "      <th>product_id</th>\n",
       "      <th>add_to_cart_order</th>\n",
       "      <th>reordered</th>\n",
       "      <th>product_name</th>\n",
       "      <th>aisle_id</th>\n",
       "      <th>department_id</th>\n",
       "      <th>prices</th>\n",
       "      <th>price_range_loc</th>\n",
       "      <th>busiest_days</th>\n",
       "      <th>busiest_period_of_day</th>\n",
       "      <th>max_order</th>\n",
       "      <th>loyalty_flag</th>\n",
       "      <th>avg_price_spent</th>\n",
       "      <th>spending_flag</th>\n",
       "      <th>median_since_prior_orders</th>\n",
       "      <th>order_frequency_flag</th>\n",
       "      <th>state</th>\n",
       "      <th>age</th>\n",
       "      <th>n_dependants</th>\n",
       "      <th>income</th>\n",
       "      <th>_merge</th>\n",
       "      <th>region</th>\n",
       "      <th>age_group</th>\n",
       "      <th>income_group</th>\n",
       "      <th>vegan_nonvegan</th>\n",
       "    </tr>\n",
       "  </thead>\n",
       "  <tbody>\n",
       "    <tr>\n",
       "      <th>0</th>\n",
       "      <td>2539329.0</td>\n",
       "      <td>1.0</td>\n",
       "      <td>1.0</td>\n",
       "      <td>2.0</td>\n",
       "      <td>8.0</td>\n",
       "      <td>11.0</td>\n",
       "      <td>196</td>\n",
       "      <td>1.0</td>\n",
       "      <td>0.0</td>\n",
       "      <td>Soda</td>\n",
       "      <td>77.0</td>\n",
       "      <td>7.0</td>\n",
       "      <td>9.0</td>\n",
       "      <td>Mid-range product</td>\n",
       "      <td>Regularly busy</td>\n",
       "      <td>Average orders</td>\n",
       "      <td>10.0</td>\n",
       "      <td>New customer</td>\n",
       "      <td>6.367797</td>\n",
       "      <td>Low spender</td>\n",
       "      <td>20.0</td>\n",
       "      <td>Regular customer</td>\n",
       "      <td>Alabama</td>\n",
       "      <td>31</td>\n",
       "      <td>3</td>\n",
       "      <td>40423</td>\n",
       "      <td>both</td>\n",
       "      <td>South</td>\n",
       "      <td>Young Adult</td>\n",
       "      <td>0-50k</td>\n",
       "      <td>Non-vegan</td>\n",
       "    </tr>\n",
       "    <tr>\n",
       "      <th>1</th>\n",
       "      <td>2398795.0</td>\n",
       "      <td>1.0</td>\n",
       "      <td>2.0</td>\n",
       "      <td>3.0</td>\n",
       "      <td>7.0</td>\n",
       "      <td>15.0</td>\n",
       "      <td>196</td>\n",
       "      <td>1.0</td>\n",
       "      <td>1.0</td>\n",
       "      <td>Soda</td>\n",
       "      <td>77.0</td>\n",
       "      <td>7.0</td>\n",
       "      <td>9.0</td>\n",
       "      <td>Mid-range product</td>\n",
       "      <td>Slowest days</td>\n",
       "      <td>Average orders</td>\n",
       "      <td>10.0</td>\n",
       "      <td>New customer</td>\n",
       "      <td>6.367797</td>\n",
       "      <td>Low spender</td>\n",
       "      <td>20.0</td>\n",
       "      <td>Regular customer</td>\n",
       "      <td>Alabama</td>\n",
       "      <td>31</td>\n",
       "      <td>3</td>\n",
       "      <td>40423</td>\n",
       "      <td>both</td>\n",
       "      <td>South</td>\n",
       "      <td>Young Adult</td>\n",
       "      <td>0-50k</td>\n",
       "      <td>Non-vegan</td>\n",
       "    </tr>\n",
       "    <tr>\n",
       "      <th>2</th>\n",
       "      <td>473747.0</td>\n",
       "      <td>1.0</td>\n",
       "      <td>3.0</td>\n",
       "      <td>3.0</td>\n",
       "      <td>12.0</td>\n",
       "      <td>21.0</td>\n",
       "      <td>196</td>\n",
       "      <td>1.0</td>\n",
       "      <td>1.0</td>\n",
       "      <td>Soda</td>\n",
       "      <td>77.0</td>\n",
       "      <td>7.0</td>\n",
       "      <td>9.0</td>\n",
       "      <td>Mid-range product</td>\n",
       "      <td>Slowest days</td>\n",
       "      <td>Most orders</td>\n",
       "      <td>10.0</td>\n",
       "      <td>New customer</td>\n",
       "      <td>6.367797</td>\n",
       "      <td>Low spender</td>\n",
       "      <td>20.0</td>\n",
       "      <td>Regular customer</td>\n",
       "      <td>Alabama</td>\n",
       "      <td>31</td>\n",
       "      <td>3</td>\n",
       "      <td>40423</td>\n",
       "      <td>both</td>\n",
       "      <td>South</td>\n",
       "      <td>Young Adult</td>\n",
       "      <td>0-50k</td>\n",
       "      <td>Non-vegan</td>\n",
       "    </tr>\n",
       "    <tr>\n",
       "      <th>3</th>\n",
       "      <td>2254736.0</td>\n",
       "      <td>1.0</td>\n",
       "      <td>4.0</td>\n",
       "      <td>4.0</td>\n",
       "      <td>7.0</td>\n",
       "      <td>29.0</td>\n",
       "      <td>196</td>\n",
       "      <td>1.0</td>\n",
       "      <td>1.0</td>\n",
       "      <td>Soda</td>\n",
       "      <td>77.0</td>\n",
       "      <td>7.0</td>\n",
       "      <td>9.0</td>\n",
       "      <td>Mid-range product</td>\n",
       "      <td>Slowest days</td>\n",
       "      <td>Average orders</td>\n",
       "      <td>10.0</td>\n",
       "      <td>New customer</td>\n",
       "      <td>6.367797</td>\n",
       "      <td>Low spender</td>\n",
       "      <td>20.0</td>\n",
       "      <td>Regular customer</td>\n",
       "      <td>Alabama</td>\n",
       "      <td>31</td>\n",
       "      <td>3</td>\n",
       "      <td>40423</td>\n",
       "      <td>both</td>\n",
       "      <td>South</td>\n",
       "      <td>Young Adult</td>\n",
       "      <td>0-50k</td>\n",
       "      <td>Non-vegan</td>\n",
       "    </tr>\n",
       "    <tr>\n",
       "      <th>4</th>\n",
       "      <td>431534.0</td>\n",
       "      <td>1.0</td>\n",
       "      <td>5.0</td>\n",
       "      <td>4.0</td>\n",
       "      <td>15.0</td>\n",
       "      <td>28.0</td>\n",
       "      <td>196</td>\n",
       "      <td>1.0</td>\n",
       "      <td>1.0</td>\n",
       "      <td>Soda</td>\n",
       "      <td>77.0</td>\n",
       "      <td>7.0</td>\n",
       "      <td>9.0</td>\n",
       "      <td>Mid-range product</td>\n",
       "      <td>Slowest days</td>\n",
       "      <td>Most orders</td>\n",
       "      <td>10.0</td>\n",
       "      <td>New customer</td>\n",
       "      <td>6.367797</td>\n",
       "      <td>Low spender</td>\n",
       "      <td>20.0</td>\n",
       "      <td>Regular customer</td>\n",
       "      <td>Alabama</td>\n",
       "      <td>31</td>\n",
       "      <td>3</td>\n",
       "      <td>40423</td>\n",
       "      <td>both</td>\n",
       "      <td>South</td>\n",
       "      <td>Young Adult</td>\n",
       "      <td>0-50k</td>\n",
       "      <td>Non-vegan</td>\n",
       "    </tr>\n",
       "  </tbody>\n",
       "</table>\n",
       "</div>"
      ],
      "text/plain": [
       "    order_id  user_id  order_number  orders_day_of_week  order_time  \\\n",
       "0  2539329.0      1.0           1.0                 2.0         8.0   \n",
       "1  2398795.0      1.0           2.0                 3.0         7.0   \n",
       "2   473747.0      1.0           3.0                 3.0        12.0   \n",
       "3  2254736.0      1.0           4.0                 4.0         7.0   \n",
       "4   431534.0      1.0           5.0                 4.0        15.0   \n",
       "\n",
       "   days_since_prior_order  product_id  add_to_cart_order  reordered  \\\n",
       "0                    11.0         196                1.0        0.0   \n",
       "1                    15.0         196                1.0        1.0   \n",
       "2                    21.0         196                1.0        1.0   \n",
       "3                    29.0         196                1.0        1.0   \n",
       "4                    28.0         196                1.0        1.0   \n",
       "\n",
       "  product_name  aisle_id  department_id  prices    price_range_loc  \\\n",
       "0         Soda      77.0            7.0     9.0  Mid-range product   \n",
       "1         Soda      77.0            7.0     9.0  Mid-range product   \n",
       "2         Soda      77.0            7.0     9.0  Mid-range product   \n",
       "3         Soda      77.0            7.0     9.0  Mid-range product   \n",
       "4         Soda      77.0            7.0     9.0  Mid-range product   \n",
       "\n",
       "     busiest_days busiest_period_of_day  max_order  loyalty_flag  \\\n",
       "0  Regularly busy        Average orders       10.0  New customer   \n",
       "1    Slowest days        Average orders       10.0  New customer   \n",
       "2    Slowest days           Most orders       10.0  New customer   \n",
       "3    Slowest days        Average orders       10.0  New customer   \n",
       "4    Slowest days           Most orders       10.0  New customer   \n",
       "\n",
       "   avg_price_spent spending_flag  median_since_prior_orders  \\\n",
       "0         6.367797   Low spender                       20.0   \n",
       "1         6.367797   Low spender                       20.0   \n",
       "2         6.367797   Low spender                       20.0   \n",
       "3         6.367797   Low spender                       20.0   \n",
       "4         6.367797   Low spender                       20.0   \n",
       "\n",
       "  order_frequency_flag    state  age  n_dependants  income _merge region  \\\n",
       "0     Regular customer  Alabama   31             3   40423   both  South   \n",
       "1     Regular customer  Alabama   31             3   40423   both  South   \n",
       "2     Regular customer  Alabama   31             3   40423   both  South   \n",
       "3     Regular customer  Alabama   31             3   40423   both  South   \n",
       "4     Regular customer  Alabama   31             3   40423   both  South   \n",
       "\n",
       "     age_group income_group vegan_nonvegan  \n",
       "0  Young Adult        0-50k      Non-vegan  \n",
       "1  Young Adult        0-50k      Non-vegan  \n",
       "2  Young Adult        0-50k      Non-vegan  \n",
       "3  Young Adult        0-50k      Non-vegan  \n",
       "4  Young Adult        0-50k      Non-vegan  "
      ]
     },
     "execution_count": 42,
     "metadata": {},
     "output_type": "execute_result"
    }
   ],
   "source": [
    "# Check our df, new column should be the last one\n",
    "df_2.head()"
   ]
  },
  {
   "cell_type": "code",
   "execution_count": 43,
   "metadata": {},
   "outputs": [
    {
     "data": {
      "text/plain": [
       "Non-vegan    29005466\n",
       "Vegan          292688\n",
       "Name: vegan_nonvegan, dtype: int64"
      ]
     },
     "execution_count": 43,
     "metadata": {},
     "output_type": "execute_result"
    }
   ],
   "source": [
    "# Counting our vegan and non-vegan values\n",
    "df_2['vegan_nonvegan'].value_counts(dropna = False)"
   ]
  },
  {
   "cell_type": "markdown",
   "metadata": {},
   "source": [
    "### Pie Chart Visualization of Customers Who Are Vegan or Non-Vegan"
   ]
  },
  {
   "cell_type": "code",
   "execution_count": 44,
   "metadata": {},
   "outputs": [
    {
     "data": {
      "image/png": "[encoded data removed]",
      "text/plain": [
       "<Figure size 432x288 with 1 Axes>"
      ]
     },
     "metadata": {},
     "output_type": "display_data"
    }
   ],
   "source": [
    "my_data = [29005466, 292688]\n",
    "my_labels = 'Non-Vegan', 'Vegan'\n",
    "cust_vegan_pie = plt.pie(my_data, labels=my_labels, autopct='%1.1f%%')\n",
    "plt.title('Breakdown of Vegans and Non-Vegans', fontsize = 15)\n",
    "plt.axis('equal')\n",
    "plt.show()"
   ]
  },
  {
   "cell_type": "markdown",
   "metadata": {},
   "source": [
    "# 7) Profile Aggregation"
   ]
  },
  {
   "cell_type": "markdown",
   "metadata": {},
   "source": [
    "#### Age Group Frequency and Expenditure"
   ]
  },
  {
   "cell_type": "code",
   "execution_count": 45,
   "metadata": {},
   "outputs": [
    {
     "data": {
      "text/html": [
       "<div>\n",
       "<style scoped>\n",
       "    .dataframe tbody tr th:only-of-type {\n",
       "        vertical-align: middle;\n",
       "    }\n",
       "\n",
       "    .dataframe tbody tr th {\n",
       "        vertical-align: top;\n",
       "    }\n",
       "\n",
       "    .dataframe thead tr th {\n",
       "        text-align: left;\n",
       "    }\n",
       "\n",
       "    .dataframe thead tr:last-of-type th {\n",
       "        text-align: right;\n",
       "    }\n",
       "</style>\n",
       "<table border=\"1\" class=\"dataframe\">\n",
       "  <thead>\n",
       "    <tr>\n",
       "      <th></th>\n",
       "      <th colspan=\"3\" halign=\"left\">days_since_prior_order</th>\n",
       "      <th colspan=\"3\" halign=\"left\">prices</th>\n",
       "    </tr>\n",
       "    <tr>\n",
       "      <th></th>\n",
       "      <th>mean</th>\n",
       "      <th>max</th>\n",
       "      <th>min</th>\n",
       "      <th>mean</th>\n",
       "      <th>max</th>\n",
       "      <th>min</th>\n",
       "    </tr>\n",
       "    <tr>\n",
       "      <th>age_group</th>\n",
       "      <th></th>\n",
       "      <th></th>\n",
       "      <th></th>\n",
       "      <th></th>\n",
       "      <th></th>\n",
       "      <th></th>\n",
       "    </tr>\n",
       "  </thead>\n",
       "  <tbody>\n",
       "    <tr>\n",
       "      <th>Middle Aged</th>\n",
       "      <td>10.826651</td>\n",
       "      <td>30.0</td>\n",
       "      <td>0.0</td>\n",
       "      <td>7.791605</td>\n",
       "      <td>25.0</td>\n",
       "      <td>1.0</td>\n",
       "    </tr>\n",
       "    <tr>\n",
       "      <th>Senior</th>\n",
       "      <td>10.805663</td>\n",
       "      <td>30.0</td>\n",
       "      <td>0.0</td>\n",
       "      <td>7.797306</td>\n",
       "      <td>25.0</td>\n",
       "      <td>1.0</td>\n",
       "    </tr>\n",
       "    <tr>\n",
       "      <th>Young Adult</th>\n",
       "      <td>10.848716</td>\n",
       "      <td>30.0</td>\n",
       "      <td>0.0</td>\n",
       "      <td>7.786122</td>\n",
       "      <td>25.0</td>\n",
       "      <td>1.0</td>\n",
       "    </tr>\n",
       "  </tbody>\n",
       "</table>\n",
       "</div>"
      ],
      "text/plain": [
       "            days_since_prior_order               prices           \n",
       "                              mean   max  min      mean   max  min\n",
       "age_group                                                         \n",
       "Middle Aged              10.826651  30.0  0.0  7.791605  25.0  1.0\n",
       "Senior                   10.805663  30.0  0.0  7.797306  25.0  1.0\n",
       "Young Adult              10.848716  30.0  0.0  7.786122  25.0  1.0"
      ]
     },
     "execution_count": 45,
     "metadata": {},
     "output_type": "execute_result"
    }
   ],
   "source": [
    "df_2.groupby('age_group').agg({'days_since_prior_order': ['mean', 'max', 'min'], 'prices': ['mean', 'max', 'min']})"
   ]
  },
  {
   "cell_type": "markdown",
   "metadata": {},
   "source": [
    "It seems that all 3 age groups shop within the same frequency and spend just about the same amount. The age group that leads both categories, however, are the Seniors. They seem to have a slightly higher frequency and slightly higher spending average."
   ]
  },
  {
   "cell_type": "markdown",
   "metadata": {},
   "source": [
    "#### Income Group Frequency and Expenditure"
   ]
  },
  {
   "cell_type": "code",
   "execution_count": 46,
   "metadata": {},
   "outputs": [
    {
     "data": {
      "text/html": [
       "<div>\n",
       "<style scoped>\n",
       "    .dataframe tbody tr th:only-of-type {\n",
       "        vertical-align: middle;\n",
       "    }\n",
       "\n",
       "    .dataframe tbody tr th {\n",
       "        vertical-align: top;\n",
       "    }\n",
       "\n",
       "    .dataframe thead tr th {\n",
       "        text-align: left;\n",
       "    }\n",
       "\n",
       "    .dataframe thead tr:last-of-type th {\n",
       "        text-align: right;\n",
       "    }\n",
       "</style>\n",
       "<table border=\"1\" class=\"dataframe\">\n",
       "  <thead>\n",
       "    <tr>\n",
       "      <th></th>\n",
       "      <th colspan=\"3\" halign=\"left\">days_since_prior_order</th>\n",
       "      <th colspan=\"3\" halign=\"left\">prices</th>\n",
       "    </tr>\n",
       "    <tr>\n",
       "      <th></th>\n",
       "      <th>mean</th>\n",
       "      <th>max</th>\n",
       "      <th>min</th>\n",
       "      <th>mean</th>\n",
       "      <th>max</th>\n",
       "      <th>min</th>\n",
       "    </tr>\n",
       "    <tr>\n",
       "      <th>income_group</th>\n",
       "      <th></th>\n",
       "      <th></th>\n",
       "      <th></th>\n",
       "      <th></th>\n",
       "      <th></th>\n",
       "      <th></th>\n",
       "    </tr>\n",
       "  </thead>\n",
       "  <tbody>\n",
       "    <tr>\n",
       "      <th>0-50k</th>\n",
       "      <td>11.179271</td>\n",
       "      <td>30.0</td>\n",
       "      <td>0.0</td>\n",
       "      <td>6.709467</td>\n",
       "      <td>25.0</td>\n",
       "      <td>1.0</td>\n",
       "    </tr>\n",
       "    <tr>\n",
       "      <th>100k+</th>\n",
       "      <td>10.785523</td>\n",
       "      <td>30.0</td>\n",
       "      <td>0.0</td>\n",
       "      <td>7.952964</td>\n",
       "      <td>25.0</td>\n",
       "      <td>1.0</td>\n",
       "    </tr>\n",
       "    <tr>\n",
       "      <th>50k-100k</th>\n",
       "      <td>10.783583</td>\n",
       "      <td>30.0</td>\n",
       "      <td>0.0</td>\n",
       "      <td>7.891137</td>\n",
       "      <td>25.0</td>\n",
       "      <td>1.0</td>\n",
       "    </tr>\n",
       "  </tbody>\n",
       "</table>\n",
       "</div>"
      ],
      "text/plain": [
       "             days_since_prior_order               prices           \n",
       "                               mean   max  min      mean   max  min\n",
       "income_group                                                       \n",
       "0-50k                     11.179271  30.0  0.0  6.709467  25.0  1.0\n",
       "100k+                     10.785523  30.0  0.0  7.952964  25.0  1.0\n",
       "50k-100k                  10.783583  30.0  0.0  7.891137  25.0  1.0"
      ]
     },
     "execution_count": 46,
     "metadata": {},
     "output_type": "execute_result"
    }
   ],
   "source": [
    "df_2.groupby('income_group').agg({'days_since_prior_order': ['mean', 'max', 'min'], 'prices': ['mean', 'max', 'min']})"
   ]
  },
  {
   "cell_type": "markdown",
   "metadata": {},
   "source": [
    "The 0-50k income group shop less frequently compared to the other 2 groups. They also spend the least amount. The 100k+ income group shop the most frequent and spend the most, though their averages aren't too far off from the 50k-100k income group."
   ]
  },
  {
   "cell_type": "markdown",
   "metadata": {},
   "source": [
    "#### Vegan/Non-Vegan Frequency and Expenditure"
   ]
  },
  {
   "cell_type": "code",
   "execution_count": 47,
   "metadata": {},
   "outputs": [
    {
     "data": {
      "text/html": [
       "<div>\n",
       "<style scoped>\n",
       "    .dataframe tbody tr th:only-of-type {\n",
       "        vertical-align: middle;\n",
       "    }\n",
       "\n",
       "    .dataframe tbody tr th {\n",
       "        vertical-align: top;\n",
       "    }\n",
       "\n",
       "    .dataframe thead tr th {\n",
       "        text-align: left;\n",
       "    }\n",
       "\n",
       "    .dataframe thead tr:last-of-type th {\n",
       "        text-align: right;\n",
       "    }\n",
       "</style>\n",
       "<table border=\"1\" class=\"dataframe\">\n",
       "  <thead>\n",
       "    <tr>\n",
       "      <th></th>\n",
       "      <th colspan=\"3\" halign=\"left\">days_since_prior_order</th>\n",
       "      <th colspan=\"3\" halign=\"left\">prices</th>\n",
       "    </tr>\n",
       "    <tr>\n",
       "      <th></th>\n",
       "      <th>mean</th>\n",
       "      <th>max</th>\n",
       "      <th>min</th>\n",
       "      <th>mean</th>\n",
       "      <th>max</th>\n",
       "      <th>min</th>\n",
       "    </tr>\n",
       "    <tr>\n",
       "      <th>vegan_nonvegan</th>\n",
       "      <th></th>\n",
       "      <th></th>\n",
       "      <th></th>\n",
       "      <th></th>\n",
       "      <th></th>\n",
       "      <th></th>\n",
       "    </tr>\n",
       "  </thead>\n",
       "  <tbody>\n",
       "    <tr>\n",
       "      <th>Non-vegan</th>\n",
       "      <td>10.799504</td>\n",
       "      <td>30.0</td>\n",
       "      <td>0.0</td>\n",
       "      <td>7.799942</td>\n",
       "      <td>25.0</td>\n",
       "      <td>1.0</td>\n",
       "    </tr>\n",
       "    <tr>\n",
       "      <th>Vegan</th>\n",
       "      <td>13.583519</td>\n",
       "      <td>30.0</td>\n",
       "      <td>0.0</td>\n",
       "      <td>6.961879</td>\n",
       "      <td>20.0</td>\n",
       "      <td>1.0</td>\n",
       "    </tr>\n",
       "  </tbody>\n",
       "</table>\n",
       "</div>"
      ],
      "text/plain": [
       "               days_since_prior_order               prices           \n",
       "                                 mean   max  min      mean   max  min\n",
       "vegan_nonvegan                                                       \n",
       "Non-vegan                   10.799504  30.0  0.0  7.799942  25.0  1.0\n",
       "Vegan                       13.583519  30.0  0.0  6.961879  20.0  1.0"
      ]
     },
     "execution_count": 47,
     "metadata": {},
     "output_type": "execute_result"
    }
   ],
   "source": [
    "df_2.groupby('vegan_nonvegan').agg({'days_since_prior_order': ['mean', 'max', 'min'], 'prices': ['mean', 'max', 'min']})"
   ]
  },
  {
   "cell_type": "markdown",
   "metadata": {},
   "source": [
    "Non-Vegans shop more frequently and spend more than their counterpart, the vegan group."
   ]
  },
  {
   "cell_type": "markdown",
   "metadata": {},
   "source": [
    "#### Number of Dependants Frequency and Expenditure"
   ]
  },
  {
   "cell_type": "code",
   "execution_count": 48,
   "metadata": {},
   "outputs": [
    {
     "data": {
      "text/html": [
       "<div>\n",
       "<style scoped>\n",
       "    .dataframe tbody tr th:only-of-type {\n",
       "        vertical-align: middle;\n",
       "    }\n",
       "\n",
       "    .dataframe tbody tr th {\n",
       "        vertical-align: top;\n",
       "    }\n",
       "\n",
       "    .dataframe thead tr th {\n",
       "        text-align: left;\n",
       "    }\n",
       "\n",
       "    .dataframe thead tr:last-of-type th {\n",
       "        text-align: right;\n",
       "    }\n",
       "</style>\n",
       "<table border=\"1\" class=\"dataframe\">\n",
       "  <thead>\n",
       "    <tr>\n",
       "      <th></th>\n",
       "      <th colspan=\"3\" halign=\"left\">days_since_prior_order</th>\n",
       "      <th colspan=\"3\" halign=\"left\">prices</th>\n",
       "    </tr>\n",
       "    <tr>\n",
       "      <th></th>\n",
       "      <th>mean</th>\n",
       "      <th>max</th>\n",
       "      <th>min</th>\n",
       "      <th>mean</th>\n",
       "      <th>max</th>\n",
       "      <th>min</th>\n",
       "    </tr>\n",
       "    <tr>\n",
       "      <th>n_dependants</th>\n",
       "      <th></th>\n",
       "      <th></th>\n",
       "      <th></th>\n",
       "      <th></th>\n",
       "      <th></th>\n",
       "      <th></th>\n",
       "    </tr>\n",
       "  </thead>\n",
       "  <tbody>\n",
       "    <tr>\n",
       "      <th>0</th>\n",
       "      <td>11.079239</td>\n",
       "      <td>30.0</td>\n",
       "      <td>0.0</td>\n",
       "      <td>7.789555</td>\n",
       "      <td>25.0</td>\n",
       "      <td>1.0</td>\n",
       "    </tr>\n",
       "    <tr>\n",
       "      <th>1</th>\n",
       "      <td>11.103335</td>\n",
       "      <td>30.0</td>\n",
       "      <td>0.0</td>\n",
       "      <td>7.797853</td>\n",
       "      <td>25.0</td>\n",
       "      <td>1.0</td>\n",
       "    </tr>\n",
       "    <tr>\n",
       "      <th>2</th>\n",
       "      <td>11.117725</td>\n",
       "      <td>30.0</td>\n",
       "      <td>0.0</td>\n",
       "      <td>7.785880</td>\n",
       "      <td>25.0</td>\n",
       "      <td>1.0</td>\n",
       "    </tr>\n",
       "    <tr>\n",
       "      <th>3</th>\n",
       "      <td>11.113575</td>\n",
       "      <td>30.0</td>\n",
       "      <td>0.0</td>\n",
       "      <td>7.794375</td>\n",
       "      <td>25.0</td>\n",
       "      <td>1.0</td>\n",
       "    </tr>\n",
       "  </tbody>\n",
       "</table>\n",
       "</div>"
      ],
      "text/plain": [
       "             days_since_prior_order               prices           \n",
       "                               mean   max  min      mean   max  min\n",
       "n_dependants                                                       \n",
       "0                         11.079239  30.0  0.0  7.789555  25.0  1.0\n",
       "1                         11.103335  30.0  0.0  7.797853  25.0  1.0\n",
       "2                         11.117725  30.0  0.0  7.785880  25.0  1.0\n",
       "3                         11.113575  30.0  0.0  7.794375  25.0  1.0"
      ]
     },
     "execution_count": 48,
     "metadata": {},
     "output_type": "execute_result"
    }
   ],
   "source": [
    "# vegan_profile stats\n",
    "\n",
    "df.groupby('n_dependants').agg({'days_since_prior_order': ['mean', 'max', 'min'], 'prices': ['mean', 'max', 'min']})"
   ]
  },
  {
   "cell_type": "markdown",
   "metadata": {},
   "source": [
    "Customers with children surprisingly shop less frequently as those without dependants. However, they do have a tendency to spend more, especially those with 1 child and those with 3 children."
   ]
  },
  {
   "cell_type": "markdown",
   "metadata": {},
   "source": [
    "# 8) Customer Profiles with Regions and Departments"
   ]
  },
  {
   "cell_type": "markdown",
   "metadata": {},
   "source": [
    "We must compare customer profiles with regions by creating a crosstab"
   ]
  },
  {
   "cell_type": "markdown",
   "metadata": {},
   "source": [
    "## Age Group"
   ]
  },
  {
   "cell_type": "markdown",
   "metadata": {},
   "source": [
    "### Age Group and Region"
   ]
  },
  {
   "cell_type": "code",
   "execution_count": 49,
   "metadata": {},
   "outputs": [],
   "source": [
    "age_region_crosstab = pd.crosstab(df_2['age_group'], df_2['region'])"
   ]
  },
  {
   "cell_type": "code",
   "execution_count": 50,
   "metadata": {
    "scrolled": true
   },
   "outputs": [
    {
     "data": {
      "text/html": [
       "<div>\n",
       "<style scoped>\n",
       "    .dataframe tbody tr th:only-of-type {\n",
       "        vertical-align: middle;\n",
       "    }\n",
       "\n",
       "    .dataframe tbody tr th {\n",
       "        vertical-align: top;\n",
       "    }\n",
       "\n",
       "    .dataframe thead th {\n",
       "        text-align: right;\n",
       "    }\n",
       "</style>\n",
       "<table border=\"1\" class=\"dataframe\">\n",
       "  <thead>\n",
       "    <tr style=\"text-align: right;\">\n",
       "      <th>region</th>\n",
       "      <th>Midwest</th>\n",
       "      <th>Northeast</th>\n",
       "      <th>South</th>\n",
       "      <th>West</th>\n",
       "    </tr>\n",
       "    <tr>\n",
       "      <th>age_group</th>\n",
       "      <th></th>\n",
       "      <th></th>\n",
       "      <th></th>\n",
       "      <th></th>\n",
       "    </tr>\n",
       "  </thead>\n",
       "  <tbody>\n",
       "    <tr>\n",
       "      <th>Middle Aged</th>\n",
       "      <td>3172348</td>\n",
       "      <td>2300109</td>\n",
       "      <td>4409650</td>\n",
       "      <td>3418607</td>\n",
       "    </tr>\n",
       "    <tr>\n",
       "      <th>Senior</th>\n",
       "      <td>1794469</td>\n",
       "      <td>1415377</td>\n",
       "      <td>2559048</td>\n",
       "      <td>1977356</td>\n",
       "    </tr>\n",
       "    <tr>\n",
       "      <th>Young Adult</th>\n",
       "      <td>1899062</td>\n",
       "      <td>1467679</td>\n",
       "      <td>2787325</td>\n",
       "      <td>2097124</td>\n",
       "    </tr>\n",
       "  </tbody>\n",
       "</table>\n",
       "</div>"
      ],
      "text/plain": [
       "region       Midwest  Northeast    South     West\n",
       "age_group                                        \n",
       "Middle Aged  3172348    2300109  4409650  3418607\n",
       "Senior       1794469    1415377  2559048  1977356\n",
       "Young Adult  1899062    1467679  2787325  2097124"
      ]
     },
     "execution_count": 50,
     "metadata": {},
     "output_type": "execute_result"
    }
   ],
   "source": [
    "age_region_crosstab"
   ]
  },
  {
   "cell_type": "markdown",
   "metadata": {},
   "source": [
    "Middle Aged customers are the largest age group in all regions, with the South having the greatest number of each age groups. Seniors have the smallest group among all age groups and they make up the smallest number of customers for all regions as well."
   ]
  },
  {
   "cell_type": "markdown",
   "metadata": {},
   "source": [
    "### Age Group and Departments"
   ]
  },
  {
   "cell_type": "code",
   "execution_count": 73,
   "metadata": {},
   "outputs": [],
   "source": [
    "age_dept_crosstab = pd.crosstab(df_2['department_id'], df_2['age_group'])"
   ]
  },
  {
   "cell_type": "code",
   "execution_count": 74,
   "metadata": {},
   "outputs": [
    {
     "data": {
      "text/html": [
       "<div>\n",
       "<style scoped>\n",
       "    .dataframe tbody tr th:only-of-type {\n",
       "        vertical-align: middle;\n",
       "    }\n",
       "\n",
       "    .dataframe tbody tr th {\n",
       "        vertical-align: top;\n",
       "    }\n",
       "\n",
       "    .dataframe thead th {\n",
       "        text-align: right;\n",
       "    }\n",
       "</style>\n",
       "<table border=\"1\" class=\"dataframe\">\n",
       "  <thead>\n",
       "    <tr style=\"text-align: right;\">\n",
       "      <th>age_group</th>\n",
       "      <th>Middle Aged</th>\n",
       "      <th>Senior</th>\n",
       "      <th>Young Adult</th>\n",
       "    </tr>\n",
       "    <tr>\n",
       "      <th>department_id</th>\n",
       "      <th></th>\n",
       "      <th></th>\n",
       "      <th></th>\n",
       "    </tr>\n",
       "  </thead>\n",
       "  <tbody>\n",
       "    <tr>\n",
       "      <th>1.0</th>\n",
       "      <td>910620</td>\n",
       "      <td>531902</td>\n",
       "      <td>563904</td>\n",
       "    </tr>\n",
       "    <tr>\n",
       "      <th>2.0</th>\n",
       "      <td>14619</td>\n",
       "      <td>8336</td>\n",
       "      <td>9320</td>\n",
       "    </tr>\n",
       "    <tr>\n",
       "      <th>3.0</th>\n",
       "      <td>481046</td>\n",
       "      <td>279456</td>\n",
       "      <td>299324</td>\n",
       "    </tr>\n",
       "    <tr>\n",
       "      <th>4.0</th>\n",
       "      <td>3898963</td>\n",
       "      <td>2275441</td>\n",
       "      <td>2411950</td>\n",
       "    </tr>\n",
       "    <tr>\n",
       "      <th>5.0</th>\n",
       "      <td>62478</td>\n",
       "      <td>34526</td>\n",
       "      <td>40938</td>\n",
       "    </tr>\n",
       "    <tr>\n",
       "      <th>6.0</th>\n",
       "      <td>109890</td>\n",
       "      <td>63257</td>\n",
       "      <td>68952</td>\n",
       "    </tr>\n",
       "    <tr>\n",
       "      <th>7.0</th>\n",
       "      <td>1107799</td>\n",
       "      <td>646326</td>\n",
       "      <td>676532</td>\n",
       "    </tr>\n",
       "    <tr>\n",
       "      <th>8.0</th>\n",
       "      <td>39506</td>\n",
       "      <td>23647</td>\n",
       "      <td>24700</td>\n",
       "    </tr>\n",
       "    <tr>\n",
       "      <th>9.0</th>\n",
       "      <td>352655</td>\n",
       "      <td>205151</td>\n",
       "      <td>219998</td>\n",
       "    </tr>\n",
       "    <tr>\n",
       "      <th>10.0</th>\n",
       "      <td>13972</td>\n",
       "      <td>8442</td>\n",
       "      <td>9146</td>\n",
       "    </tr>\n",
       "    <tr>\n",
       "      <th>11.0</th>\n",
       "      <td>183469</td>\n",
       "      <td>104454</td>\n",
       "      <td>111738</td>\n",
       "    </tr>\n",
       "    <tr>\n",
       "      <th>12.0</th>\n",
       "      <td>288820</td>\n",
       "      <td>171028</td>\n",
       "      <td>179220</td>\n",
       "    </tr>\n",
       "    <tr>\n",
       "      <th>13.0</th>\n",
       "      <td>764662</td>\n",
       "      <td>445385</td>\n",
       "      <td>473706</td>\n",
       "    </tr>\n",
       "    <tr>\n",
       "      <th>14.0</th>\n",
       "      <td>286694</td>\n",
       "      <td>165521</td>\n",
       "      <td>180540</td>\n",
       "    </tr>\n",
       "    <tr>\n",
       "      <th>15.0</th>\n",
       "      <td>433764</td>\n",
       "      <td>252151</td>\n",
       "      <td>270917</td>\n",
       "    </tr>\n",
       "    <tr>\n",
       "      <th>16.0</th>\n",
       "      <td>2214392</td>\n",
       "      <td>1291934</td>\n",
       "      <td>1385815</td>\n",
       "    </tr>\n",
       "    <tr>\n",
       "      <th>17.0</th>\n",
       "      <td>299630</td>\n",
       "      <td>175891</td>\n",
       "      <td>184522</td>\n",
       "    </tr>\n",
       "    <tr>\n",
       "      <th>18.0</th>\n",
       "      <td>180965</td>\n",
       "      <td>100232</td>\n",
       "      <td>106542</td>\n",
       "    </tr>\n",
       "    <tr>\n",
       "      <th>19.0</th>\n",
       "      <td>1186031</td>\n",
       "      <td>689815</td>\n",
       "      <td>740229</td>\n",
       "    </tr>\n",
       "    <tr>\n",
       "      <th>20.0</th>\n",
       "      <td>430572</td>\n",
       "      <td>250492</td>\n",
       "      <td>267735</td>\n",
       "    </tr>\n",
       "    <tr>\n",
       "      <th>21.0</th>\n",
       "      <td>27661</td>\n",
       "      <td>15961</td>\n",
       "      <td>17660</td>\n",
       "    </tr>\n",
       "  </tbody>\n",
       "</table>\n",
       "</div>"
      ],
      "text/plain": [
       "age_group      Middle Aged   Senior  Young Adult\n",
       "department_id                                   \n",
       "1.0                 910620   531902       563904\n",
       "2.0                  14619     8336         9320\n",
       "3.0                 481046   279456       299324\n",
       "4.0                3898963  2275441      2411950\n",
       "5.0                  62478    34526        40938\n",
       "6.0                 109890    63257        68952\n",
       "7.0                1107799   646326       676532\n",
       "8.0                  39506    23647        24700\n",
       "9.0                 352655   205151       219998\n",
       "10.0                 13972     8442         9146\n",
       "11.0                183469   104454       111738\n",
       "12.0                288820   171028       179220\n",
       "13.0                764662   445385       473706\n",
       "14.0                286694   165521       180540\n",
       "15.0                433764   252151       270917\n",
       "16.0               2214392  1291934      1385815\n",
       "17.0                299630   175891       184522\n",
       "18.0                180965   100232       106542\n",
       "19.0               1186031   689815       740229\n",
       "20.0                430572   250492       267735\n",
       "21.0                 27661    15961        17660"
      ]
     },
     "execution_count": 74,
     "metadata": {},
     "output_type": "execute_result"
    }
   ],
   "source": [
    "age_dept_crosstab"
   ]
  },
  {
   "cell_type": "markdown",
   "metadata": {},
   "source": [
    "The most commonly purchased items come from these departments:\n",
    "- produce (dept. 4)\n",
    "- beverages (dept. 7)\n",
    "- dairy/eggs (dept. 16)\n",
    "- snacks (dept. 19)"
   ]
  },
  {
   "cell_type": "markdown",
   "metadata": {},
   "source": [
    "## Income Group"
   ]
  },
  {
   "cell_type": "markdown",
   "metadata": {},
   "source": [
    "### Income Group and Region"
   ]
  },
  {
   "cell_type": "code",
   "execution_count": 53,
   "metadata": {},
   "outputs": [],
   "source": [
    "income_region_crosstab = pd.crosstab(df_2['income_group'], df_2['region'])"
   ]
  },
  {
   "cell_type": "code",
   "execution_count": 54,
   "metadata": {
    "scrolled": true
   },
   "outputs": [
    {
     "data": {
      "text/html": [
       "<div>\n",
       "<style scoped>\n",
       "    .dataframe tbody tr th:only-of-type {\n",
       "        vertical-align: middle;\n",
       "    }\n",
       "\n",
       "    .dataframe tbody tr th {\n",
       "        vertical-align: top;\n",
       "    }\n",
       "\n",
       "    .dataframe thead th {\n",
       "        text-align: right;\n",
       "    }\n",
       "</style>\n",
       "<table border=\"1\" class=\"dataframe\">\n",
       "  <thead>\n",
       "    <tr style=\"text-align: right;\">\n",
       "      <th>region</th>\n",
       "      <th>Midwest</th>\n",
       "      <th>Northeast</th>\n",
       "      <th>South</th>\n",
       "      <th>West</th>\n",
       "    </tr>\n",
       "    <tr>\n",
       "      <th>income_group</th>\n",
       "      <th></th>\n",
       "      <th></th>\n",
       "      <th></th>\n",
       "      <th></th>\n",
       "    </tr>\n",
       "  </thead>\n",
       "  <tbody>\n",
       "    <tr>\n",
       "      <th>0-50k</th>\n",
       "      <td>742335</td>\n",
       "      <td>555792</td>\n",
       "      <td>1077497</td>\n",
       "      <td>796600</td>\n",
       "    </tr>\n",
       "    <tr>\n",
       "      <th>100k+</th>\n",
       "      <td>3225379</td>\n",
       "      <td>2393954</td>\n",
       "      <td>4407145</td>\n",
       "      <td>3420898</td>\n",
       "    </tr>\n",
       "    <tr>\n",
       "      <th>50k-100k</th>\n",
       "      <td>2898165</td>\n",
       "      <td>2233419</td>\n",
       "      <td>4271381</td>\n",
       "      <td>3275589</td>\n",
       "    </tr>\n",
       "  </tbody>\n",
       "</table>\n",
       "</div>"
      ],
      "text/plain": [
       "region        Midwest  Northeast    South     West\n",
       "income_group                                      \n",
       "0-50k          742335     555792  1077497   796600\n",
       "100k+         3225379    2393954  4407145  3420898\n",
       "50k-100k      2898165    2233419  4271381  3275589"
      ]
     },
     "execution_count": 54,
     "metadata": {},
     "output_type": "execute_result"
    }
   ],
   "source": [
    "income_region_crosstab"
   ]
  },
  {
   "cell_type": "markdown",
   "metadata": {},
   "source": [
    "Most of our customers come from the 100k+ income group, regardless of region.\n",
    "\n",
    "However, it is important to note that in the Northeast, South, and West regions, there are almost as many customers from 50k-100k income groups as there are in the 100k+ income group."
   ]
  },
  {
   "cell_type": "markdown",
   "metadata": {},
   "source": [
    "### Income Group and Departments"
   ]
  },
  {
   "cell_type": "code",
   "execution_count": 80,
   "metadata": {},
   "outputs": [],
   "source": [
    "income_department_crosstab = pd.crosstab(df_2['department_id'], df_2['income_group'])"
   ]
  },
  {
   "cell_type": "code",
   "execution_count": 81,
   "metadata": {},
   "outputs": [
    {
     "data": {
      "text/html": [
       "<div>\n",
       "<style scoped>\n",
       "    .dataframe tbody tr th:only-of-type {\n",
       "        vertical-align: middle;\n",
       "    }\n",
       "\n",
       "    .dataframe tbody tr th {\n",
       "        vertical-align: top;\n",
       "    }\n",
       "\n",
       "    .dataframe thead th {\n",
       "        text-align: right;\n",
       "    }\n",
       "</style>\n",
       "<table border=\"1\" class=\"dataframe\">\n",
       "  <thead>\n",
       "    <tr style=\"text-align: right;\">\n",
       "      <th>income_group</th>\n",
       "      <th>0-50k</th>\n",
       "      <th>100k+</th>\n",
       "      <th>50k-100k</th>\n",
       "    </tr>\n",
       "    <tr>\n",
       "      <th>department_id</th>\n",
       "      <th></th>\n",
       "      <th></th>\n",
       "      <th></th>\n",
       "    </tr>\n",
       "  </thead>\n",
       "  <tbody>\n",
       "    <tr>\n",
       "      <th>1.0</th>\n",
       "      <td>203601</td>\n",
       "      <td>933765</td>\n",
       "      <td>869060</td>\n",
       "    </tr>\n",
       "    <tr>\n",
       "      <th>2.0</th>\n",
       "      <td>3598</td>\n",
       "      <td>14772</td>\n",
       "      <td>13905</td>\n",
       "    </tr>\n",
       "    <tr>\n",
       "      <th>3.0</th>\n",
       "      <td>100732</td>\n",
       "      <td>499483</td>\n",
       "      <td>459611</td>\n",
       "    </tr>\n",
       "    <tr>\n",
       "      <th>4.0</th>\n",
       "      <td>777954</td>\n",
       "      <td>4007585</td>\n",
       "      <td>3800815</td>\n",
       "    </tr>\n",
       "    <tr>\n",
       "      <th>5.0</th>\n",
       "      <td>16801</td>\n",
       "      <td>65811</td>\n",
       "      <td>55330</td>\n",
       "    </tr>\n",
       "    <tr>\n",
       "      <th>6.0</th>\n",
       "      <td>20391</td>\n",
       "      <td>113306</td>\n",
       "      <td>108402</td>\n",
       "    </tr>\n",
       "    <tr>\n",
       "      <th>7.0</th>\n",
       "      <td>362569</td>\n",
       "      <td>1064067</td>\n",
       "      <td>1004021</td>\n",
       "    </tr>\n",
       "    <tr>\n",
       "      <th>8.0</th>\n",
       "      <td>8092</td>\n",
       "      <td>42734</td>\n",
       "      <td>37027</td>\n",
       "    </tr>\n",
       "    <tr>\n",
       "      <th>9.0</th>\n",
       "      <td>60601</td>\n",
       "      <td>371441</td>\n",
       "      <td>345762</td>\n",
       "    </tr>\n",
       "    <tr>\n",
       "      <th>10.0</th>\n",
       "      <td>4457</td>\n",
       "      <td>13313</td>\n",
       "      <td>13790</td>\n",
       "    </tr>\n",
       "    <tr>\n",
       "      <th>11.0</th>\n",
       "      <td>44751</td>\n",
       "      <td>182296</td>\n",
       "      <td>172614</td>\n",
       "    </tr>\n",
       "    <tr>\n",
       "      <th>12.0</th>\n",
       "      <td>32245</td>\n",
       "      <td>317962</td>\n",
       "      <td>288861</td>\n",
       "    </tr>\n",
       "    <tr>\n",
       "      <th>13.0</th>\n",
       "      <td>156247</td>\n",
       "      <td>793413</td>\n",
       "      <td>734093</td>\n",
       "    </tr>\n",
       "    <tr>\n",
       "      <th>14.0</th>\n",
       "      <td>86138</td>\n",
       "      <td>280762</td>\n",
       "      <td>265855</td>\n",
       "    </tr>\n",
       "    <tr>\n",
       "      <th>15.0</th>\n",
       "      <td>74612</td>\n",
       "      <td>458486</td>\n",
       "      <td>423734</td>\n",
       "    </tr>\n",
       "    <tr>\n",
       "      <th>16.0</th>\n",
       "      <td>473549</td>\n",
       "      <td>2276842</td>\n",
       "      <td>2141750</td>\n",
       "    </tr>\n",
       "    <tr>\n",
       "      <th>17.0</th>\n",
       "      <td>81711</td>\n",
       "      <td>302397</td>\n",
       "      <td>275935</td>\n",
       "    </tr>\n",
       "    <tr>\n",
       "      <th>18.0</th>\n",
       "      <td>26404</td>\n",
       "      <td>186959</td>\n",
       "      <td>174376</td>\n",
       "    </tr>\n",
       "    <tr>\n",
       "      <th>19.0</th>\n",
       "      <td>527551</td>\n",
       "      <td>1045466</td>\n",
       "      <td>1043058</td>\n",
       "    </tr>\n",
       "    <tr>\n",
       "      <th>20.0</th>\n",
       "      <td>100565</td>\n",
       "      <td>437049</td>\n",
       "      <td>411185</td>\n",
       "    </tr>\n",
       "    <tr>\n",
       "      <th>21.0</th>\n",
       "      <td>6209</td>\n",
       "      <td>27947</td>\n",
       "      <td>27126</td>\n",
       "    </tr>\n",
       "  </tbody>\n",
       "</table>\n",
       "</div>"
      ],
      "text/plain": [
       "income_group    0-50k    100k+  50k-100k\n",
       "department_id                           \n",
       "1.0            203601   933765    869060\n",
       "2.0              3598    14772     13905\n",
       "3.0            100732   499483    459611\n",
       "4.0            777954  4007585   3800815\n",
       "5.0             16801    65811     55330\n",
       "6.0             20391   113306    108402\n",
       "7.0            362569  1064067   1004021\n",
       "8.0              8092    42734     37027\n",
       "9.0             60601   371441    345762\n",
       "10.0             4457    13313     13790\n",
       "11.0            44751   182296    172614\n",
       "12.0            32245   317962    288861\n",
       "13.0           156247   793413    734093\n",
       "14.0            86138   280762    265855\n",
       "15.0            74612   458486    423734\n",
       "16.0           473549  2276842   2141750\n",
       "17.0            81711   302397    275935\n",
       "18.0            26404   186959    174376\n",
       "19.0           527551  1045466   1043058\n",
       "20.0           100565   437049    411185\n",
       "21.0             6209    27947     27126"
      ]
     },
     "execution_count": 81,
     "metadata": {},
     "output_type": "execute_result"
    }
   ],
   "source": [
    "income_department_crosstab"
   ]
  },
  {
   "cell_type": "markdown",
   "metadata": {},
   "source": [
    "Most ordered products come from these departments:\n",
    "- produce\n",
    "- dairy and eggs\n",
    "\n",
    "Those with higer incomes buy more items from the produce department compared to the other two groups. Could it be that since they have a higher income, they could afford fresh produce and have a healthier diet?"
   ]
  },
  {
   "cell_type": "markdown",
   "metadata": {},
   "source": [
    "## Vegan / Non-Vegan"
   ]
  },
  {
   "cell_type": "markdown",
   "metadata": {},
   "source": [
    "### Vegan / Non-Vegan and Region"
   ]
  },
  {
   "cell_type": "code",
   "execution_count": 57,
   "metadata": {},
   "outputs": [],
   "source": [
    "vegan_region_crosstab = pd.crosstab(df_2['vegan_nonvegan'], df_2['region'])"
   ]
  },
  {
   "cell_type": "code",
   "execution_count": 58,
   "metadata": {
    "scrolled": false
   },
   "outputs": [
    {
     "data": {
      "text/html": [
       "<div>\n",
       "<style scoped>\n",
       "    .dataframe tbody tr th:only-of-type {\n",
       "        vertical-align: middle;\n",
       "    }\n",
       "\n",
       "    .dataframe tbody tr th {\n",
       "        vertical-align: top;\n",
       "    }\n",
       "\n",
       "    .dataframe thead th {\n",
       "        text-align: right;\n",
       "    }\n",
       "</style>\n",
       "<table border=\"1\" class=\"dataframe\">\n",
       "  <thead>\n",
       "    <tr style=\"text-align: right;\">\n",
       "      <th>region</th>\n",
       "      <th>Midwest</th>\n",
       "      <th>Northeast</th>\n",
       "      <th>South</th>\n",
       "      <th>West</th>\n",
       "    </tr>\n",
       "    <tr>\n",
       "      <th>vegan_nonvegan</th>\n",
       "      <th></th>\n",
       "      <th></th>\n",
       "      <th></th>\n",
       "      <th></th>\n",
       "    </tr>\n",
       "  </thead>\n",
       "  <tbody>\n",
       "    <tr>\n",
       "      <th>Non-vegan</th>\n",
       "      <td>6795706</td>\n",
       "      <td>5131907</td>\n",
       "      <td>9661130</td>\n",
       "      <td>7416723</td>\n",
       "    </tr>\n",
       "    <tr>\n",
       "      <th>Vegan</th>\n",
       "      <td>70173</td>\n",
       "      <td>51258</td>\n",
       "      <td>94893</td>\n",
       "      <td>76364</td>\n",
       "    </tr>\n",
       "  </tbody>\n",
       "</table>\n",
       "</div>"
      ],
      "text/plain": [
       "region          Midwest  Northeast    South     West\n",
       "vegan_nonvegan                                      \n",
       "Non-vegan       6795706    5131907  9661130  7416723\n",
       "Vegan             70173      51258    94893    76364"
      ]
     },
     "execution_count": 58,
     "metadata": {},
     "output_type": "execute_result"
    }
   ],
   "source": [
    "vegan_region_crosstab"
   ]
  },
  {
   "cell_type": "markdown",
   "metadata": {},
   "source": [
    "Most of our Vegan customers come from the South region, followed by the West region. This could be due to the fact that the South have more states included in their region. Also, the West regions contain larger states which could mean more customers within each state."
   ]
  },
  {
   "cell_type": "markdown",
   "metadata": {},
   "source": [
    "### Vegan / Non-Vegan and Departments"
   ]
  },
  {
   "cell_type": "code",
   "execution_count": 86,
   "metadata": {},
   "outputs": [],
   "source": [
    "vegan_dept_crosstab = pd.crosstab(df_2['department_id'], df_2['vegan_nonvegan'])"
   ]
  },
  {
   "cell_type": "code",
   "execution_count": 87,
   "metadata": {},
   "outputs": [
    {
     "data": {
      "text/html": [
       "<div>\n",
       "<style scoped>\n",
       "    .dataframe tbody tr th:only-of-type {\n",
       "        vertical-align: middle;\n",
       "    }\n",
       "\n",
       "    .dataframe tbody tr th {\n",
       "        vertical-align: top;\n",
       "    }\n",
       "\n",
       "    .dataframe thead th {\n",
       "        text-align: right;\n",
       "    }\n",
       "</style>\n",
       "<table border=\"1\" class=\"dataframe\">\n",
       "  <thead>\n",
       "    <tr style=\"text-align: right;\">\n",
       "      <th>vegan_nonvegan</th>\n",
       "      <th>Non-vegan</th>\n",
       "      <th>Vegan</th>\n",
       "    </tr>\n",
       "    <tr>\n",
       "      <th>department_id</th>\n",
       "      <th></th>\n",
       "      <th></th>\n",
       "    </tr>\n",
       "  </thead>\n",
       "  <tbody>\n",
       "    <tr>\n",
       "      <th>1.0</th>\n",
       "      <td>1990119</td>\n",
       "      <td>16307</td>\n",
       "    </tr>\n",
       "    <tr>\n",
       "      <th>2.0</th>\n",
       "      <td>31558</td>\n",
       "      <td>717</td>\n",
       "    </tr>\n",
       "    <tr>\n",
       "      <th>3.0</th>\n",
       "      <td>1055137</td>\n",
       "      <td>4689</td>\n",
       "    </tr>\n",
       "    <tr>\n",
       "      <th>4.0</th>\n",
       "      <td>8494472</td>\n",
       "      <td>91882</td>\n",
       "    </tr>\n",
       "    <tr>\n",
       "      <th>5.0</th>\n",
       "      <td>128103</td>\n",
       "      <td>9839</td>\n",
       "    </tr>\n",
       "    <tr>\n",
       "      <th>6.0</th>\n",
       "      <td>240984</td>\n",
       "      <td>1115</td>\n",
       "    </tr>\n",
       "    <tr>\n",
       "      <th>7.0</th>\n",
       "      <td>2372930</td>\n",
       "      <td>57727</td>\n",
       "    </tr>\n",
       "    <tr>\n",
       "      <th>8.0</th>\n",
       "      <td>86995</td>\n",
       "      <td>858</td>\n",
       "    </tr>\n",
       "    <tr>\n",
       "      <th>9.0</th>\n",
       "      <td>775491</td>\n",
       "      <td>2313</td>\n",
       "    </tr>\n",
       "    <tr>\n",
       "      <th>10.0</th>\n",
       "      <td>31021</td>\n",
       "      <td>539</td>\n",
       "    </tr>\n",
       "    <tr>\n",
       "      <th>11.0</th>\n",
       "      <td>392138</td>\n",
       "      <td>7523</td>\n",
       "    </tr>\n",
       "    <tr>\n",
       "      <th>12.0</th>\n",
       "      <td>639068</td>\n",
       "      <td>0</td>\n",
       "    </tr>\n",
       "    <tr>\n",
       "      <th>13.0</th>\n",
       "      <td>1671190</td>\n",
       "      <td>12563</td>\n",
       "    </tr>\n",
       "    <tr>\n",
       "      <th>14.0</th>\n",
       "      <td>626514</td>\n",
       "      <td>6241</td>\n",
       "    </tr>\n",
       "    <tr>\n",
       "      <th>15.0</th>\n",
       "      <td>952309</td>\n",
       "      <td>4523</td>\n",
       "    </tr>\n",
       "    <tr>\n",
       "      <th>16.0</th>\n",
       "      <td>4892141</td>\n",
       "      <td>0</td>\n",
       "    </tr>\n",
       "    <tr>\n",
       "      <th>17.0</th>\n",
       "      <td>641704</td>\n",
       "      <td>18339</td>\n",
       "    </tr>\n",
       "    <tr>\n",
       "      <th>18.0</th>\n",
       "      <td>386128</td>\n",
       "      <td>1611</td>\n",
       "    </tr>\n",
       "    <tr>\n",
       "      <th>19.0</th>\n",
       "      <td>2565907</td>\n",
       "      <td>50168</td>\n",
       "    </tr>\n",
       "    <tr>\n",
       "      <th>20.0</th>\n",
       "      <td>943845</td>\n",
       "      <td>4954</td>\n",
       "    </tr>\n",
       "    <tr>\n",
       "      <th>21.0</th>\n",
       "      <td>60760</td>\n",
       "      <td>522</td>\n",
       "    </tr>\n",
       "  </tbody>\n",
       "</table>\n",
       "</div>"
      ],
      "text/plain": [
       "vegan_nonvegan  Non-vegan  Vegan\n",
       "department_id                   \n",
       "1.0               1990119  16307\n",
       "2.0                 31558    717\n",
       "3.0               1055137   4689\n",
       "4.0               8494472  91882\n",
       "5.0                128103   9839\n",
       "6.0                240984   1115\n",
       "7.0               2372930  57727\n",
       "8.0                 86995    858\n",
       "9.0                775491   2313\n",
       "10.0                31021    539\n",
       "11.0               392138   7523\n",
       "12.0               639068      0\n",
       "13.0              1671190  12563\n",
       "14.0               626514   6241\n",
       "15.0               952309   4523\n",
       "16.0              4892141      0\n",
       "17.0               641704  18339\n",
       "18.0               386128   1611\n",
       "19.0              2565907  50168\n",
       "20.0               943845   4954\n",
       "21.0                60760    522"
      ]
     },
     "execution_count": 87,
     "metadata": {},
     "output_type": "execute_result"
    }
   ],
   "source": [
    "vegan_dept_crosstab"
   ]
  },
  {
   "cell_type": "markdown",
   "metadata": {},
   "source": [
    "As expected, the Vegan group's most ordered department is the produce department. In addition to that, they have 0 orders from meat and seafood department, as well as 0 orders from the dairy and eggs department."
   ]
  },
  {
   "cell_type": "markdown",
   "metadata": {},
   "source": [
    "## Number of Dependants"
   ]
  },
  {
   "cell_type": "markdown",
   "metadata": {},
   "source": [
    "### Number of Dependants and Region"
   ]
  },
  {
   "cell_type": "code",
   "execution_count": 61,
   "metadata": {},
   "outputs": [],
   "source": [
    "dependants_region_crosstab = pd.crosstab(df_2['n_dependants'], df_2['region'])"
   ]
  },
  {
   "cell_type": "code",
   "execution_count": 62,
   "metadata": {},
   "outputs": [
    {
     "data": {
      "text/html": [
       "<div>\n",
       "<style scoped>\n",
       "    .dataframe tbody tr th:only-of-type {\n",
       "        vertical-align: middle;\n",
       "    }\n",
       "\n",
       "    .dataframe tbody tr th {\n",
       "        vertical-align: top;\n",
       "    }\n",
       "\n",
       "    .dataframe thead th {\n",
       "        text-align: right;\n",
       "    }\n",
       "</style>\n",
       "<table border=\"1\" class=\"dataframe\">\n",
       "  <thead>\n",
       "    <tr style=\"text-align: right;\">\n",
       "      <th>region</th>\n",
       "      <th>Midwest</th>\n",
       "      <th>Northeast</th>\n",
       "      <th>South</th>\n",
       "      <th>West</th>\n",
       "    </tr>\n",
       "    <tr>\n",
       "      <th>n_dependants</th>\n",
       "      <th></th>\n",
       "      <th></th>\n",
       "      <th></th>\n",
       "      <th></th>\n",
       "    </tr>\n",
       "  </thead>\n",
       "  <tbody>\n",
       "    <tr>\n",
       "      <th>0</th>\n",
       "      <td>1728433</td>\n",
       "      <td>1281229</td>\n",
       "      <td>2435547</td>\n",
       "      <td>1874408</td>\n",
       "    </tr>\n",
       "    <tr>\n",
       "      <th>1</th>\n",
       "      <td>1747487</td>\n",
       "      <td>1305054</td>\n",
       "      <td>2399578</td>\n",
       "      <td>1856093</td>\n",
       "    </tr>\n",
       "    <tr>\n",
       "      <th>2</th>\n",
       "      <td>1707822</td>\n",
       "      <td>1292763</td>\n",
       "      <td>2475936</td>\n",
       "      <td>1849006</td>\n",
       "    </tr>\n",
       "    <tr>\n",
       "      <th>3</th>\n",
       "      <td>1682137</td>\n",
       "      <td>1304119</td>\n",
       "      <td>2444962</td>\n",
       "      <td>1913580</td>\n",
       "    </tr>\n",
       "  </tbody>\n",
       "</table>\n",
       "</div>"
      ],
      "text/plain": [
       "region        Midwest  Northeast    South     West\n",
       "n_dependants                                      \n",
       "0             1728433    1281229  2435547  1874408\n",
       "1             1747487    1305054  2399578  1856093\n",
       "2             1707822    1292763  2475936  1849006\n",
       "3             1682137    1304119  2444962  1913580"
      ]
     },
     "execution_count": 62,
     "metadata": {},
     "output_type": "execute_result"
    }
   ],
   "source": [
    "dependants_region_crosstab"
   ]
  },
  {
   "cell_type": "markdown",
   "metadata": {},
   "source": [
    "All regions are very similar in their distribution of number of dependants. It is clear that majority of customers HAVE children, but the number of HOW MANY is spread almost evenly amongst all groups."
   ]
  },
  {
   "cell_type": "markdown",
   "metadata": {},
   "source": [
    "### Number of Dependants and Departments"
   ]
  },
  {
   "cell_type": "code",
   "execution_count": 92,
   "metadata": {},
   "outputs": [],
   "source": [
    "dependants_dept_crosstab = pd.crosstab(df_2['department_id'], df_2['n_dependants'])"
   ]
  },
  {
   "cell_type": "code",
   "execution_count": 93,
   "metadata": {},
   "outputs": [
    {
     "data": {
      "text/html": [
       "<div>\n",
       "<style scoped>\n",
       "    .dataframe tbody tr th:only-of-type {\n",
       "        vertical-align: middle;\n",
       "    }\n",
       "\n",
       "    .dataframe tbody tr th {\n",
       "        vertical-align: top;\n",
       "    }\n",
       "\n",
       "    .dataframe thead th {\n",
       "        text-align: right;\n",
       "    }\n",
       "</style>\n",
       "<table border=\"1\" class=\"dataframe\">\n",
       "  <thead>\n",
       "    <tr style=\"text-align: right;\">\n",
       "      <th>n_dependants</th>\n",
       "      <th>0</th>\n",
       "      <th>1</th>\n",
       "      <th>2</th>\n",
       "      <th>3</th>\n",
       "    </tr>\n",
       "    <tr>\n",
       "      <th>department_id</th>\n",
       "      <th></th>\n",
       "      <th></th>\n",
       "      <th></th>\n",
       "      <th></th>\n",
       "    </tr>\n",
       "  </thead>\n",
       "  <tbody>\n",
       "    <tr>\n",
       "      <th>1.0</th>\n",
       "      <td>500523</td>\n",
       "      <td>497109</td>\n",
       "      <td>505146</td>\n",
       "      <td>503648</td>\n",
       "    </tr>\n",
       "    <tr>\n",
       "      <th>2.0</th>\n",
       "      <td>8075</td>\n",
       "      <td>8243</td>\n",
       "      <td>8115</td>\n",
       "      <td>7842</td>\n",
       "    </tr>\n",
       "    <tr>\n",
       "      <th>3.0</th>\n",
       "      <td>266379</td>\n",
       "      <td>264950</td>\n",
       "      <td>263763</td>\n",
       "      <td>264734</td>\n",
       "    </tr>\n",
       "    <tr>\n",
       "      <th>4.0</th>\n",
       "      <td>2148280</td>\n",
       "      <td>2138950</td>\n",
       "      <td>2138624</td>\n",
       "      <td>2160500</td>\n",
       "    </tr>\n",
       "    <tr>\n",
       "      <th>5.0</th>\n",
       "      <td>35192</td>\n",
       "      <td>34084</td>\n",
       "      <td>33333</td>\n",
       "      <td>35333</td>\n",
       "    </tr>\n",
       "    <tr>\n",
       "      <th>6.0</th>\n",
       "      <td>60943</td>\n",
       "      <td>61102</td>\n",
       "      <td>59930</td>\n",
       "      <td>60124</td>\n",
       "    </tr>\n",
       "    <tr>\n",
       "      <th>7.0</th>\n",
       "      <td>610344</td>\n",
       "      <td>604418</td>\n",
       "      <td>611224</td>\n",
       "      <td>604671</td>\n",
       "    </tr>\n",
       "    <tr>\n",
       "      <th>8.0</th>\n",
       "      <td>22078</td>\n",
       "      <td>22549</td>\n",
       "      <td>21178</td>\n",
       "      <td>22048</td>\n",
       "    </tr>\n",
       "    <tr>\n",
       "      <th>9.0</th>\n",
       "      <td>193137</td>\n",
       "      <td>193849</td>\n",
       "      <td>193893</td>\n",
       "      <td>196925</td>\n",
       "    </tr>\n",
       "    <tr>\n",
       "      <th>10.0</th>\n",
       "      <td>7550</td>\n",
       "      <td>7940</td>\n",
       "      <td>8039</td>\n",
       "      <td>8031</td>\n",
       "    </tr>\n",
       "    <tr>\n",
       "      <th>11.0</th>\n",
       "      <td>99795</td>\n",
       "      <td>99768</td>\n",
       "      <td>99691</td>\n",
       "      <td>100407</td>\n",
       "    </tr>\n",
       "    <tr>\n",
       "      <th>12.0</th>\n",
       "      <td>156986</td>\n",
       "      <td>160417</td>\n",
       "      <td>159484</td>\n",
       "      <td>162181</td>\n",
       "    </tr>\n",
       "    <tr>\n",
       "      <th>13.0</th>\n",
       "      <td>418818</td>\n",
       "      <td>422031</td>\n",
       "      <td>422036</td>\n",
       "      <td>420868</td>\n",
       "    </tr>\n",
       "    <tr>\n",
       "      <th>14.0</th>\n",
       "      <td>157494</td>\n",
       "      <td>159752</td>\n",
       "      <td>158813</td>\n",
       "      <td>156696</td>\n",
       "    </tr>\n",
       "    <tr>\n",
       "      <th>15.0</th>\n",
       "      <td>237381</td>\n",
       "      <td>239601</td>\n",
       "      <td>239009</td>\n",
       "      <td>240841</td>\n",
       "    </tr>\n",
       "    <tr>\n",
       "      <th>16.0</th>\n",
       "      <td>1221452</td>\n",
       "      <td>1228056</td>\n",
       "      <td>1220009</td>\n",
       "      <td>1222624</td>\n",
       "    </tr>\n",
       "    <tr>\n",
       "      <th>17.0</th>\n",
       "      <td>160952</td>\n",
       "      <td>165871</td>\n",
       "      <td>166849</td>\n",
       "      <td>166371</td>\n",
       "    </tr>\n",
       "    <tr>\n",
       "      <th>18.0</th>\n",
       "      <td>97703</td>\n",
       "      <td>93714</td>\n",
       "      <td>99546</td>\n",
       "      <td>96776</td>\n",
       "    </tr>\n",
       "    <tr>\n",
       "      <th>19.0</th>\n",
       "      <td>655322</td>\n",
       "      <td>649952</td>\n",
       "      <td>657566</td>\n",
       "      <td>653235</td>\n",
       "    </tr>\n",
       "    <tr>\n",
       "      <th>20.0</th>\n",
       "      <td>239048</td>\n",
       "      <td>234146</td>\n",
       "      <td>236877</td>\n",
       "      <td>238728</td>\n",
       "    </tr>\n",
       "    <tr>\n",
       "      <th>21.0</th>\n",
       "      <td>15069</td>\n",
       "      <td>15176</td>\n",
       "      <td>15520</td>\n",
       "      <td>15517</td>\n",
       "    </tr>\n",
       "  </tbody>\n",
       "</table>\n",
       "</div>"
      ],
      "text/plain": [
       "n_dependants         0        1        2        3\n",
       "department_id                                    \n",
       "1.0             500523   497109   505146   503648\n",
       "2.0               8075     8243     8115     7842\n",
       "3.0             266379   264950   263763   264734\n",
       "4.0            2148280  2138950  2138624  2160500\n",
       "5.0              35192    34084    33333    35333\n",
       "6.0              60943    61102    59930    60124\n",
       "7.0             610344   604418   611224   604671\n",
       "8.0              22078    22549    21178    22048\n",
       "9.0             193137   193849   193893   196925\n",
       "10.0              7550     7940     8039     8031\n",
       "11.0             99795    99768    99691   100407\n",
       "12.0            156986   160417   159484   162181\n",
       "13.0            418818   422031   422036   420868\n",
       "14.0            157494   159752   158813   156696\n",
       "15.0            237381   239601   239009   240841\n",
       "16.0           1221452  1228056  1220009  1222624\n",
       "17.0            160952   165871   166849   166371\n",
       "18.0             97703    93714    99546    96776\n",
       "19.0            655322   649952   657566   653235\n",
       "20.0            239048   234146   236877   238728\n",
       "21.0             15069    15176    15520    15517"
      ]
     },
     "execution_count": 93,
     "metadata": {},
     "output_type": "execute_result"
    }
   ],
   "source": [
    "dependants_dept_crosstab"
   ]
  },
  {
   "cell_type": "markdown",
   "metadata": {},
   "source": [
    "A surprising outcome of this is the fact that customers with NO children order the most from the babies department (dept. 18) among all groups.\n",
    "\n",
    "Other things to note are:\n",
    "- Those with 3 dependants order the most from the personal care dept.\n",
    "- Those with 2-3 dependants order more from the bulk dept. compared to those with 0-1 dependants.\n",
    "- Customers with 1 dependant order less from frozen dept. compared to other groups."
   ]
  },
  {
   "cell_type": "markdown",
   "metadata": {},
   "source": [
    "# 9) Charts Illustrating Results"
   ]
  },
  {
   "cell_type": "markdown",
   "metadata": {},
   "source": [
    "## Age"
   ]
  },
  {
   "cell_type": "markdown",
   "metadata": {},
   "source": [
    "### Age Groups and Region"
   ]
  },
  {
   "cell_type": "code",
   "execution_count": 70,
   "metadata": {},
   "outputs": [
    {
     "data": {
      "image/png": "[encoded data removed]",
      "text/plain": [
       "<Figure size 432x288 with 1 Axes>"
      ]
     },
     "metadata": {
      "needs_background": "light"
     },
     "output_type": "display_data"
    }
   ],
   "source": [
    "age_region_bar = age_region_crosstab.plot.bar()"
   ]
  },
  {
   "cell_type": "markdown",
   "metadata": {},
   "source": [
    "##### Exporting Visuals"
   ]
  },
  {
   "cell_type": "code",
   "execution_count": 71,
   "metadata": {},
   "outputs": [],
   "source": [
    "age_region_bar.figure.savefig(os.path.join(path, '04 Analysis', 'Visualizations', 'FINAL_age_region_bar.png'))"
   ]
  },
  {
   "cell_type": "markdown",
   "metadata": {},
   "source": [
    "### Age Groups and Departments"
   ]
  },
  {
   "cell_type": "code",
   "execution_count": 75,
   "metadata": {},
   "outputs": [
    {
     "data": {
      "image/png": "[encoded data removed]",
      "text/plain": [
       "<Figure size 432x288 with 1 Axes>"
      ]
     },
     "metadata": {
      "needs_background": "light"
     },
     "output_type": "display_data"
    }
   ],
   "source": [
    "age_dept_bar = age_dept_crosstab.plot.bar()"
   ]
  },
  {
   "cell_type": "markdown",
   "metadata": {},
   "source": [
    "##### Exporting Visuals"
   ]
  },
  {
   "cell_type": "code",
   "execution_count": 76,
   "metadata": {},
   "outputs": [],
   "source": [
    "age_dept_bar.figure.savefig(os.path.join(path, '04 Analysis', 'Visualizations', 'FINAL_age_dept_bar.png'))"
   ]
  },
  {
   "cell_type": "markdown",
   "metadata": {},
   "source": [
    "## Income Group"
   ]
  },
  {
   "cell_type": "markdown",
   "metadata": {},
   "source": [
    "### Income Group and Region"
   ]
  },
  {
   "cell_type": "code",
   "execution_count": 77,
   "metadata": {},
   "outputs": [
    {
     "data": {
      "image/png": "[encoded data removed]",
      "text/plain": [
       "<Figure size 432x288 with 1 Axes>"
      ]
     },
     "metadata": {
      "needs_background": "light"
     },
     "output_type": "display_data"
    }
   ],
   "source": [
    "income_region_bar = income_region_crosstab.plot.bar()"
   ]
  },
  {
   "cell_type": "markdown",
   "metadata": {},
   "source": [
    "##### Exporting Visuals"
   ]
  },
  {
   "cell_type": "code",
   "execution_count": 78,
   "metadata": {},
   "outputs": [],
   "source": [
    "income_region_bar.figure.savefig(os.path.join(path, '04 Analysis', 'Visualizations', 'FINAL_income_region_bar.png'))"
   ]
  },
  {
   "cell_type": "markdown",
   "metadata": {},
   "source": [
    "### Income Group and Departments"
   ]
  },
  {
   "cell_type": "code",
   "execution_count": 82,
   "metadata": {},
   "outputs": [
    {
     "data": {
      "image/png": "[encoded data removed]",
      "text/plain": [
       "<Figure size 432x288 with 1 Axes>"
      ]
     },
     "metadata": {
      "needs_background": "light"
     },
     "output_type": "display_data"
    }
   ],
   "source": [
    "income_dept_bar = income_department_crosstab.plot.bar()"
   ]
  },
  {
   "cell_type": "markdown",
   "metadata": {},
   "source": [
    "##### Exporting Visuals"
   ]
  },
  {
   "cell_type": "code",
   "execution_count": 83,
   "metadata": {},
   "outputs": [],
   "source": [
    "income_dept_bar.figure.savefig(os.path.join(path, '04 Analysis', 'Visualizations', 'FINAL_income_dept_bar.png'))"
   ]
  },
  {
   "cell_type": "markdown",
   "metadata": {},
   "source": [
    "## Vegan / Non-Vegan"
   ]
  },
  {
   "cell_type": "markdown",
   "metadata": {},
   "source": [
    "### Vegan / Non-Vegan and Region"
   ]
  },
  {
   "cell_type": "code",
   "execution_count": 84,
   "metadata": {},
   "outputs": [
    {
     "data": {
      "image/png": "[encoded data removed]",
      "text/plain": [
       "<Figure size 432x288 with 1 Axes>"
      ]
     },
     "metadata": {
      "needs_background": "light"
     },
     "output_type": "display_data"
    }
   ],
   "source": [
    "vegan_region_bar = vegan_region_crosstab.plot.bar()"
   ]
  },
  {
   "cell_type": "markdown",
   "metadata": {},
   "source": [
    "##### Exporting Visuals"
   ]
  },
  {
   "cell_type": "code",
   "execution_count": 85,
   "metadata": {},
   "outputs": [],
   "source": [
    "vegan_region_bar.figure.savefig(os.path.join(path, '04 Analysis', 'Visualizations', 'FINAL_vegan_region_bar.png'))"
   ]
  },
  {
   "cell_type": "markdown",
   "metadata": {},
   "source": [
    "### Vegan / Non-Vegan and Departments"
   ]
  },
  {
   "cell_type": "code",
   "execution_count": 88,
   "metadata": {},
   "outputs": [
    {
     "data": {
      "image/png": "[encoded data removed]",
      "text/plain": [
       "<Figure size 432x288 with 1 Axes>"
      ]
     },
     "metadata": {
      "needs_background": "light"
     },
     "output_type": "display_data"
    }
   ],
   "source": [
    "vegan_dept_bar = vegan_dept_crosstab.plot.bar()"
   ]
  },
  {
   "cell_type": "markdown",
   "metadata": {},
   "source": [
    "##### Exporting Visuals"
   ]
  },
  {
   "cell_type": "code",
   "execution_count": 89,
   "metadata": {},
   "outputs": [],
   "source": [
    "vegan_dept_bar.figure.savefig(os.path.join(path, '04 Analysis', 'Visualizations', 'FINAL_vegan_dept_bar.png'))"
   ]
  },
  {
   "cell_type": "markdown",
   "metadata": {},
   "source": [
    "## Number of Dependants"
   ]
  },
  {
   "cell_type": "markdown",
   "metadata": {},
   "source": [
    "### Number of Dependants and Region"
   ]
  },
  {
   "cell_type": "code",
   "execution_count": 90,
   "metadata": {},
   "outputs": [
    {
     "data": {
      "image/png": "[encoded data removed]",
      "text/plain": [
       "<Figure size 432x288 with 1 Axes>"
      ]
     },
     "metadata": {
      "needs_background": "light"
     },
     "output_type": "display_data"
    }
   ],
   "source": [
    "dependants_region_bar = dependants_region_crosstab.plot.bar()"
   ]
  },
  {
   "cell_type": "markdown",
   "metadata": {},
   "source": [
    "##### Exporting Visuals"
   ]
  },
  {
   "cell_type": "code",
   "execution_count": 91,
   "metadata": {},
   "outputs": [],
   "source": [
    "dependants_region_bar.figure.savefig(os.path.join(path, '04 Analysis', 'Visualizations', 'FINAL_dependants_region_bar.png'))"
   ]
  },
  {
   "cell_type": "markdown",
   "metadata": {},
   "source": [
    "### Number of Dependants and Departments"
   ]
  },
  {
   "cell_type": "code",
   "execution_count": 94,
   "metadata": {
    "scrolled": true
   },
   "outputs": [
    {
     "data": {
      "image/png": "[encoded data removed]",
      "text/plain": [
       "<Figure size 432x288 with 1 Axes>"
      ]
     },
     "metadata": {
      "needs_background": "light"
     },
     "output_type": "display_data"
    }
   ],
   "source": [
    "dependants_dept_bar = dependants_dept_crosstab.plot.bar()"
   ]
  },
  {
   "cell_type": "markdown",
   "metadata": {},
   "source": [
    "##### Exporting Visuals"
   ]
  },
  {
   "cell_type": "code",
   "execution_count": 95,
   "metadata": {},
   "outputs": [],
   "source": [
    "dependants_dept_bar.figure.savefig(os.path.join(path, '04 Analysis', 'Visualizations', 'FINAL_dependants_dept_bar.png'))"
   ]
  },
  {
   "cell_type": "markdown",
   "metadata": {},
   "source": [
    "# 10) Export Final Data Set"
   ]
  },
  {
   "cell_type": "code",
   "execution_count": 97,
   "metadata": {},
   "outputs": [],
   "source": [
    "df_2.to_pickle(os.path.join(path, '02 Data', 'Prepared Data', 'FINAL_df.pkl'))"
   ]
  }
 ],
 "metadata": {
  "kernelspec": {
   "display_name": "Python 3",
   "language": "python",
   "name": "python3"
  },
  "language_info": {
   "codemirror_mode": {
    "name": "ipython",
    "version": 3
   },
   "file_extension": ".py",
   "mimetype": "text/x-python",
   "name": "python",
   "nbconvert_exporter": "python",
   "pygments_lexer": "ipython3",
   "version": "3.8.5"
  }
 },
 "nbformat": 4,
 "nbformat_minor": 4
}
